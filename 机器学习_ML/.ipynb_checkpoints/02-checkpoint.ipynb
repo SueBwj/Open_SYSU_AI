{
 "cells": [
  {
   "cell_type": "markdown",
   "id": "5f92bcaf-1984-4bdd-b301-20e0d91e75d9",
   "metadata": {},
   "source": [
    "#### 介绍数据集\n",
    "\n",
    "1. 在 plt.imshow(some_digit_image, cmap='binary') 这行代码中，cmap 参数用于指定颜色映射（Colormap），它决定了图像中像素值如何映射到颜色上。具体来说：\n",
    "    - cmap 是 colormap（颜色映射） 的缩写。它定义了一组颜色，用于将数据值转换为图像中的颜色显示。\n",
    "    - 作用：当你使用 plt.imshow 显示图像时，图像的每个像素都有一个数值（通常是灰度值或强度值）。cmap 决定了这些数值如何被转换为具体的颜色，以便在图像中呈现出来。\n",
    "    - cmap='binary' 的含义：\n",
    "        - 'binary' 是一种黑白二值的颜色映射。它将较低的数值映射为黑色，较高的数值映射为白色，适用于显示灰度图像或二值图像。\n",
    "    效果：\n",
    "        - 使用 'binary' 可以清晰地展示图像的亮暗对比，适合展示手写数字、简单图形等\n",
    "    - **matplotlib颜色**： https://matplotlib.net.cn/stable/users/explain/colors/colormaps.html"
   ]
  },
  {
   "cell_type": "code",
   "execution_count": 1,
   "id": "7ea021b4-f587-4f3d-82f0-bd4fbf856d6f",
   "metadata": {},
   "outputs": [
    {
     "data": {
      "text/plain": [
       "dict_keys(['data', 'target', 'frame', 'categories', 'feature_names', 'target_names', 'DESCR', 'details', 'url'])"
      ]
     },
     "execution_count": 1,
     "metadata": {},
     "output_type": "execute_result"
    }
   ],
   "source": [
    "from sklearn.datasets import fetch_openml\n",
    "mnist = fetch_openml('mnist_784',version=1,parser=\"auto\")\n",
    "mnist.keys()"
   ]
  },
  {
   "cell_type": "code",
   "execution_count": 3,
   "id": "53622b59-0102-4c17-b6d5-50607d3cb25e",
   "metadata": {},
   "outputs": [
    {
     "name": "stdout",
     "output_type": "stream",
     "text": [
      "(70000, 784)\n",
      "(70000,)\n"
     ]
    }
   ],
   "source": [
    "# 每张图片有784个特征\n",
    "X, y = mnist['data'], mnist['target']\n",
    "print(X.shape)\n",
    "print(y.shape)"
   ]
  },
  {
   "cell_type": "code",
   "execution_count": 9,
   "id": "637f02e7-f5d4-40c5-a6c8-9201329276ba",
   "metadata": {},
   "outputs": [
    {
     "name": "stdout",
     "output_type": "stream",
     "text": [
      "pixel1      0\n",
      "pixel2      0\n",
      "pixel3      0\n",
      "pixel4      0\n",
      "pixel5      0\n",
      "           ..\n",
      "pixel780    0\n",
      "pixel781    0\n",
      "pixel782    0\n",
      "pixel783    0\n",
      "pixel784    0\n",
      "Name: 0, Length: 784, dtype: int64\n"
     ]
    },
    {
     "data": {
      "image/png": "[encoded data removed]",
      "text/plain": [
       "<Figure size 640x480 with 1 Axes>"
      ]
     },
     "metadata": {},
     "output_type": "display_data"
    },
    {
     "name": "stdout",
     "output_type": "stream",
     "text": [
      "5\n"
     ]
    }
   ],
   "source": [
    "import matplotlib as mpl\n",
    "import matplotlib.pyplot as plt\n",
    "\n",
    "print(X.iloc[0]) # 获取第一行数据 为pandas的series\n",
    "some_digit = X.iloc[0].values\n",
    "some_digit_imamge = some_digit.reshape(28,28)\n",
    "\n",
    "plt.imshow(some_digit_imamge, cmap='binary')\n",
    "plt.axis('off')\n",
    "plt.show()\n",
    "\n",
    "print(y[0])"
   ]
  },
  {
   "cell_type": "markdown",
   "id": "cb9d3227-05e4-4cfd-9803-3bfce12da783",
   "metadata": {},
   "source": [
    "1. 注意标签是字符，大部分机器学习算法希望是数字，让我们把y转换成整数"
   ]
  },
  {
   "cell_type": "code",
   "execution_count": 12,
   "id": "a496c92e-53fe-4dd7-9ff0-6a570d718af4",
   "metadata": {},
   "outputs": [],
   "source": [
    "import numpy as np\n",
    "y = y.astype(np.uint8)"
   ]
  },
  {
   "cell_type": "markdown",
   "id": "ad3e8b68-3431-4d84-a069-4c5966d70ca9",
   "metadata": {},
   "source": [
    "#### 创建训练集和测试集"
   ]
  },
  {
   "cell_type": "code",
   "execution_count": 13,
   "id": "937ab716-3379-473c-9aae-fc756a7368a9",
   "metadata": {},
   "outputs": [],
   "source": [
    "X_train, X_test, y_train, y_test = X[:6000],X[6000:],y[:6000],y[6000:]"
   ]
  },
  {
   "cell_type": "markdown",
   "id": "1f6e1065-f3f2-4618-95c4-1af47df6a127",
   "metadata": {},
   "source": [
    "#### 训练二元分类器"
   ]
  },
  {
   "cell_type": "code",
   "execution_count": 14,
   "id": "941af065-07ff-4b0d-80e9-4ff760596f71",
   "metadata": {},
   "outputs": [],
   "source": [
    "y_train_5 = (y_train == 5)\n",
    "y_test_5 = (y_test == 5)"
   ]
  },
  {
   "cell_type": "markdown",
   "id": "b541f659-0cb4-4261-bd2d-8fd35e7c52d1",
   "metadata": {},
   "source": [
    "1. SGDClassifier在训练时是完全随机的（因此得名“随机”​）​，如果你希望得到可复现的结果，需要设置参数random_state"
   ]
  },
  {
   "cell_type": "code",
   "execution_count": 15,
   "id": "9b87aa21-ff9d-46ea-a0ed-fb3059c85b67",
   "metadata": {},
   "outputs": [
    {
     "data": {
      "text/html": [
       "<style>#sk-container-id-1 {color: black;}#sk-container-id-1 pre{padding: 0;}#sk-container-id-1 div.sk-toggleable {background-color: white;}#sk-container-id-1 label.sk-toggleable__label {cursor: pointer;display: block;width: 100%;margin-bottom: 0;padding: 0.3em;box-sizing: border-box;text-align: center;}#sk-container-id-1 label.sk-toggleable__label-arrow:before {content: \"▸\";float: left;margin-right: 0.25em;color: #696969;}#sk-container-id-1 label.sk-toggleable__label-arrow:hover:before {color: black;}#sk-container-id-1 div.sk-estimator:hover label.sk-toggleable__label-arrow:before {color: black;}#sk-container-id-1 div.sk-toggleable__content {max-height: 0;max-width: 0;overflow: hidden;text-align: left;background-color: #f0f8ff;}#sk-container-id-1 div.sk-toggleable__content pre {margin: 0.2em;color: black;border-radius: 0.25em;background-color: #f0f8ff;}#sk-container-id-1 input.sk-toggleable__control:checked~div.sk-toggleable__content {max-height: 200px;max-width: 100%;overflow: auto;}#sk-container-id-1 input.sk-toggleable__control:checked~label.sk-toggleable__label-arrow:before {content: \"▾\";}#sk-container-id-1 div.sk-estimator input.sk-toggleable__control:checked~label.sk-toggleable__label {background-color: #d4ebff;}#sk-container-id-1 div.sk-label input.sk-toggleable__control:checked~label.sk-toggleable__label {background-color: #d4ebff;}#sk-container-id-1 input.sk-hidden--visually {border: 0;clip: rect(1px 1px 1px 1px);clip: rect(1px, 1px, 1px, 1px);height: 1px;margin: -1px;overflow: hidden;padding: 0;position: absolute;width: 1px;}#sk-container-id-1 div.sk-estimator {font-family: monospace;background-color: #f0f8ff;border: 1px dotted black;border-radius: 0.25em;box-sizing: border-box;margin-bottom: 0.5em;}#sk-container-id-1 div.sk-estimator:hover {background-color: #d4ebff;}#sk-container-id-1 div.sk-parallel-item::after {content: \"\";width: 100%;border-bottom: 1px solid gray;flex-grow: 1;}#sk-container-id-1 div.sk-label:hover label.sk-toggleable__label {background-color: #d4ebff;}#sk-container-id-1 div.sk-serial::before {content: \"\";position: absolute;border-left: 1px solid gray;box-sizing: border-box;top: 0;bottom: 0;left: 50%;z-index: 0;}#sk-container-id-1 div.sk-serial {display: flex;flex-direction: column;align-items: center;background-color: white;padding-right: 0.2em;padding-left: 0.2em;position: relative;}#sk-container-id-1 div.sk-item {position: relative;z-index: 1;}#sk-container-id-1 div.sk-parallel {display: flex;align-items: stretch;justify-content: center;background-color: white;position: relative;}#sk-container-id-1 div.sk-item::before, #sk-container-id-1 div.sk-parallel-item::before {content: \"\";position: absolute;border-left: 1px solid gray;box-sizing: border-box;top: 0;bottom: 0;left: 50%;z-index: -1;}#sk-container-id-1 div.sk-parallel-item {display: flex;flex-direction: column;z-index: 1;position: relative;background-color: white;}#sk-container-id-1 div.sk-parallel-item:first-child::after {align-self: flex-end;width: 50%;}#sk-container-id-1 div.sk-parallel-item:last-child::after {align-self: flex-start;width: 50%;}#sk-container-id-1 div.sk-parallel-item:only-child::after {width: 0;}#sk-container-id-1 div.sk-dashed-wrapped {border: 1px dashed gray;margin: 0 0.4em 0.5em 0.4em;box-sizing: border-box;padding-bottom: 0.4em;background-color: white;}#sk-container-id-1 div.sk-label label {font-family: monospace;font-weight: bold;display: inline-block;line-height: 1.2em;}#sk-container-id-1 div.sk-label-container {text-align: center;}#sk-container-id-1 div.sk-container {/* jupyter's `normalize.less` sets `[hidden] { display: none; }` but bootstrap.min.css set `[hidden] { display: none !important; }` so we also need the `!important` here to be able to override the default hidden behavior on the sphinx rendered scikit-learn.org. See: https://github.com/scikit-learn/scikit-learn/issues/21755 */display: inline-block !important;position: relative;}#sk-container-id-1 div.sk-text-repr-fallback {display: none;}</style><div id=\"sk-container-id-1\" class=\"sk-top-container\"><div class=\"sk-text-repr-fallback\"><pre>SGDClassifier()</pre><b>In a Jupyter environment, please rerun this cell to show the HTML representation or trust the notebook. <br />On GitHub, the HTML representation is unable to render, please try loading this page with nbviewer.org.</b></div><div class=\"sk-container\" hidden><div class=\"sk-item\"><div class=\"sk-estimator sk-toggleable\"><input class=\"sk-toggleable__control sk-hidden--visually\" id=\"sk-estimator-id-1\" type=\"checkbox\" checked><label for=\"sk-estimator-id-1\" class=\"sk-toggleable__label sk-toggleable__label-arrow\">SGDClassifier</label><div class=\"sk-toggleable__content\"><pre>SGDClassifier()</pre></div></div></div></div></div>"
      ],
      "text/plain": [
       "SGDClassifier()"
      ]
     },
     "execution_count": 15,
     "metadata": {},
     "output_type": "execute_result"
    }
   ],
   "source": [
    "from sklearn.linear_model import SGDClassifier\n",
    "\n",
    "sgd_clf = SGDClassifier()\n",
    "sgd_clf.fit(X_train, y_train_5)"
   ]
  },
  {
   "cell_type": "code",
   "execution_count": 16,
   "id": "631fab47-6571-4f25-a00d-08a5de1bff4e",
   "metadata": {},
   "outputs": [
    {
     "name": "stderr",
     "output_type": "stream",
     "text": [
      "/root/anaconda3/envs/landmark/lib/python3.8/site-packages/sklearn/base.py:465: UserWarning: X does not have valid feature names, but SGDClassifier was fitted with feature names\n",
      "  warnings.warn(\n"
     ]
    },
    {
     "data": {
      "text/plain": [
       "array([ True])"
      ]
     },
     "execution_count": 16,
     "metadata": {},
     "output_type": "execute_result"
    }
   ],
   "source": [
    "sgd_clf.predict([some_digit])"
   ]
  },
  {
   "cell_type": "markdown",
   "id": "fecbd7fc-ee40-46bf-9e99-72b89ece8258",
   "metadata": {},
   "source": [
    "#### 性能测量\n",
    "1. 评估分类器比评估回归器要困难得多\n",
    "2. 准确率通常无法成为分类器的首要性能指标，特别是当你处理有偏数据集时（即某些类比其他类更为频繁），比如猜数字是5还是不是5， 有90%的数字都不是5，所以只要一直猜不是5，都有90%的正确率"
   ]
  },
  {
   "cell_type": "markdown",
   "id": "50bfa331-f44f-4538-9e26-af0442fcae2f",
   "metadata": {},
   "source": [
    "##### 使用交叉验证测量准确率\n",
    "1. 每个折叠由StratifiedKFold执行分层抽样"
   ]
  },
  {
   "cell_type": "code",
   "execution_count": 23,
   "id": "06a84989-280f-423d-8267-aa0ce524a50d",
   "metadata": {},
   "outputs": [
    {
     "name": "stdout",
     "output_type": "stream",
     "text": [
      "0.9595\n",
      "0.963\n",
      "0.949\n"
     ]
    }
   ],
   "source": [
    "from sklearn.model_selection import StratifiedKFold\n",
    "from sklearn.base import clone\n",
    "\n",
    "skfolds = StratifiedKFold(n_splits=3, random_state=42, shuffle=True)\n",
    "\n",
    "for train_index, test_index in skfolds.split(X_train, y_train_5):\n",
    "    clone_clf = clone(sgd_clf)\n",
    "    X_train_folds = X_train.iloc[train_index]\n",
    "    y_train_folds = y_train_5.iloc[train_index]\n",
    "\n",
    "    X_test_fold = X_train.iloc[test_index]\n",
    "    y_test_fold = y_train_5.iloc[test_index]\n",
    "\n",
    "    clone_clf.fit(X_train_folds, y_train_folds)\n",
    "    y_pred = clone_clf.predict(X_test_fold)\n",
    "    n_correct = sum(y_pred == y_test_fold)\n",
    "    print(n_correct / len(y_pred))\n"
   ]
  },
  {
   "cell_type": "code",
   "execution_count": 22,
   "id": "713b79cb-e0fd-4ce0-90ea-1f38d389a706",
   "metadata": {},
   "outputs": [
    {
     "name": "stdout",
     "output_type": "stream",
     "text": [
      "Cross-Validation Accuracy Scores: [0.9465 0.9525 0.965 ]\n",
      "Average Cross-Validation Accuracy: 95.47%\n"
     ]
    }
   ],
   "source": [
    "# 使用内置的函数\n",
    "from sklearn.model_selection import cross_val_score\n",
    "\n",
    "scores = cross_val_score(sgd_clf, X_train, y_train_5, cv=3, scoring='accuracy')\n",
    "\n",
    "print(f\"Cross-Validation Accuracy Scores: {scores}\")\n",
    "print(f\"Average Cross-Validation Accuracy: {scores.mean():.2%}\")"
   ]
  },
  {
   "cell_type": "markdown",
   "id": "e910efbe-22f5-4e57-901a-4a60de90658b",
   "metadata": {},
   "source": [
    "##### 混淆矩阵\n",
    "1. 评估分类器性能的更好方法是混淆矩阵，其总体思路就是统计A类别实例被分成为B类别的次数。例如，要想知道分类器将数字3和数字5混淆多少次，只需要通过混淆矩阵的第5行第3列来查看\n",
    "2. 与cross_val_score（​）函数一样，cross_val_predict（​）函数同样执行K-折交叉验证，但返回的不是评估分数，而是每个折叠的预测。这意味着对于每个实例都可以得到一个干净的预测（​“干净”的意思是模型预测时使用的数据在其训练期间从未见过）​。"
   ]
  },
  {
   "cell_type": "code",
   "execution_count": 24,
   "id": "347027c8-ba0a-4466-9c63-ab8991d20f01",
   "metadata": {},
   "outputs": [],
   "source": [
    "from sklearn.model_selection import cross_val_predict\n",
    "\n",
    "y_train_pred = cross_val_predict(sgd_clf, X_train, y_train_5, cv=3)"
   ]
  },
  {
   "cell_type": "code",
   "execution_count": 25,
   "id": "0214efb3-6f43-458a-bbcb-07a9b2405c5c",
   "metadata": {},
   "outputs": [
    {
     "data": {
      "text/plain": [
       "array([[5319,  167],\n",
       "       [ 106,  408]])"
      ]
     },
     "execution_count": 25,
     "metadata": {},
     "output_type": "execute_result"
    }
   ],
   "source": [
    "from sklearn.metrics import confusion_matrix\n",
    "confusion_matrix(y_train_5, y_train_pred)"
   ]
  },
  {
   "cell_type": "markdown",
   "id": "82cf0f3c-c7a2-4bff-b2a3-cdca56c7bcf5",
   "metadata": {},
   "source": [
    "##### 精度\n",
    "1. 正类预测的准确率是一个有意思的指标，它也称为分类器的精度\n",
    "2. 精度 = TP /（TP + FP） -- TP是真正类的数量，FP是假正类的数量"
   ]
  },
  {
   "cell_type": "markdown",
   "id": "d874270f-77c8-4eeb-9a81-b8f844e8ee72",
   "metadata": {},
   "source": [
    "##### 召回率\n",
    "1. 召回率 = TP / （TP + FN） -- FN是假负类的数量\n",
    "    - ![混淆矩阵](\"./images/混淆矩阵.png\")"
   ]
  }
 ],
 "metadata": {
  "kernelspec": {
   "display_name": "Python 3 (ipykernel)",
   "language": "python",
   "name": "python3"
  },
  "language_info": {
   "codemirror_mode": {
    "name": "ipython",
    "version": 3
   },
   "file_extension": ".py",
   "mimetype": "text/x-python",
   "name": "python",
   "nbconvert_exporter": "python",
   "pygments_lexer": "ipython3",
   "version": "3.8.19"
  }
 },
 "nbformat": 4,
 "nbformat_minor": 5
}
