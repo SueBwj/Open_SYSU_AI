{
 "cells": [
  {
   "cell_type": "code",
   "execution_count": 3,
   "id": "4a3bb952",
   "metadata": {},
   "outputs": [
    {
     "name": "stdout",
     "output_type": "stream",
     "text": [
      "Looking in indexes: https://pypi.tuna.tsinghua.edu.cn/simple\n",
      "Requirement already satisfied: scikit-learn in c:\\anaconda3\\envs\\opencv\\lib\\site-packages (1.3.2)\n",
      "Requirement already satisfied: numpy<2.0,>=1.17.3 in c:\\anaconda3\\envs\\opencv\\lib\\site-packages (from scikit-learn) (1.24.4)\n",
      "Requirement already satisfied: scipy>=1.5.0 in c:\\anaconda3\\envs\\opencv\\lib\\site-packages (from scikit-learn) (1.10.1)\n",
      "Requirement already satisfied: joblib>=1.1.1 in c:\\anaconda3\\envs\\opencv\\lib\\site-packages (from scikit-learn) (1.4.2)\n",
      "Requirement already satisfied: threadpoolctl>=2.0.0 in c:\\anaconda3\\envs\\opencv\\lib\\site-packages (from scikit-learn) (3.5.0)\n"
     ]
    }
   ],
   "source": [
    "!pip install scikit-learn"
   ]
  },
  {
   "cell_type": "markdown",
   "id": "5f92bcaf-1984-4bdd-b301-20e0d91e75d9",
   "metadata": {},
   "source": [
    "#### 介绍数据集\n",
    "\n",
    "1. 在 plt.plot_digits(some_digit_image, cmap='binary') 这行代码中，cmap 参数用于指定颜色映射（Colormap），它决定了图像中像素值如何映射到颜色上。具体来说：\n",
    "    - cmap 是 colormap（颜色映射） 的缩写。它定义了一组颜色，用于将数据值转换为图像中的颜色显示。\n",
    "    - 作用：当你使用 plt.plot_digits 显示图像时，图像的每个像素都有一个数值（通常是灰度值或强度值）。cmap 决定了这些数值如何被转换为具体的颜色，以便在图像中呈现出来。\n",
    "    - cmap='binary' 的含义：\n",
    "        - 'binary' 是一种黑白二值的颜色映射。它将较低的数值映射为黑色，较高的数值映射为白色，适用于显示灰度图像或二值图像。\n",
    "    效果：\n",
    "        - 使用 'binary' 可以清晰地展示图像的亮暗对比，适合展示手写数字、简单图形等\n",
    "    - **matplotlib颜色**： https://matplotlib.net.cn/stable/users/explain/colors/colormaps.html"
   ]
  },
  {
   "cell_type": "code",
   "execution_count": 4,
   "id": "7ea021b4-f587-4f3d-82f0-bd4fbf856d6f",
   "metadata": {},
   "outputs": [
    {
     "data": {
      "text/plain": [
       "dict_keys(['data', 'target', 'frame', 'categories', 'feature_names', 'target_names', 'DESCR', 'details', 'url'])"
      ]
     },
     "execution_count": 4,
     "metadata": {},
     "output_type": "execute_result"
    }
   ],
   "source": [
    "from sklearn.datasets import fetch_openml\n",
    "mnist = fetch_openml('mnist_784',version=1,parser=\"auto\")\n",
    "mnist.keys()"
   ]
  },
  {
   "cell_type": "code",
   "execution_count": 5,
   "id": "53622b59-0102-4c17-b6d5-50607d3cb25e",
   "metadata": {},
   "outputs": [
    {
     "name": "stdout",
     "output_type": "stream",
     "text": [
      "(70000, 784)\n",
      "(70000,)\n"
     ]
    }
   ],
   "source": [
    "# 每张图片有784个特征\n",
    "X, y = mnist['data'], mnist['target']\n",
    "print(X.shape)\n",
    "print(y.shape)"
   ]
  },
  {
   "cell_type": "code",
   "execution_count": 6,
   "id": "637f02e7-f5d4-40c5-a6c8-9201329276ba",
   "metadata": {},
   "outputs": [
    {
     "name": "stdout",
     "output_type": "stream",
     "text": [
      "pixel1      0\n",
      "pixel2      0\n",
      "pixel3      0\n",
      "pixel4      0\n",
      "pixel5      0\n",
      "           ..\n",
      "pixel780    0\n",
      "pixel781    0\n",
      "pixel782    0\n",
      "pixel783    0\n",
      "pixel784    0\n",
      "Name: 0, Length: 784, dtype: int64\n"
     ]
    },
    {
     "data": {
      "image/png": "[encoded data removed]",
      "text/plain": [
       "<Figure size 640x480 with 1 Axes>"
      ]
     },
     "metadata": {},
     "output_type": "display_data"
    },
    {
     "name": "stdout",
     "output_type": "stream",
     "text": [
      "5\n"
     ]
    }
   ],
   "source": [
    "import matplotlib as mpl\n",
    "import matplotlib.pyplot as plt\n",
    "\n",
    "print(X.iloc[0]) # 获取第一行数据 为pandas的series\n",
    "some_digit = X.iloc[0].values\n",
    "some_digit_imamge = some_digit.reshape(28,28)\n",
    "\n",
    "plt.imshow(some_digit_imamge, cmap='binary')\n",
    "plt.axis('off')\n",
    "plt.show()\n",
    "\n",
    "print(y[0])"
   ]
  },
  {
   "cell_type": "markdown",
   "id": "cb9d3227-05e4-4cfd-9803-3bfce12da783",
   "metadata": {},
   "source": [
    "1. 注意标签是字符，大部分机器学习算法希望是数字，让我们把y转换成整数"
   ]
  },
  {
   "cell_type": "code",
   "execution_count": 7,
   "id": "a496c92e-53fe-4dd7-9ff0-6a570d718af4",
   "metadata": {},
   "outputs": [],
   "source": [
    "import numpy as np\n",
    "y = y.astype(np.uint8)"
   ]
  },
  {
   "cell_type": "markdown",
   "id": "ad3e8b68-3431-4d84-a069-4c5966d70ca9",
   "metadata": {},
   "source": [
    "#### 创建训练集和测试集"
   ]
  },
  {
   "cell_type": "code",
   "execution_count": 8,
   "id": "937ab716-3379-473c-9aae-fc756a7368a9",
   "metadata": {},
   "outputs": [],
   "source": [
    "X_train, X_test, y_train, y_test = X[:6000],X[6000:],y[:6000],y[6000:]"
   ]
  },
  {
   "cell_type": "markdown",
   "id": "1f6e1065-f3f2-4618-95c4-1af47df6a127",
   "metadata": {},
   "source": [
    "#### 训练二元分类器"
   ]
  },
  {
   "cell_type": "code",
   "execution_count": 9,
   "id": "941af065-07ff-4b0d-80e9-4ff760596f71",
   "metadata": {},
   "outputs": [],
   "source": [
    "y_train_5 = (y_train == 5)\n",
    "y_test_5 = (y_test == 5)"
   ]
  },
  {
   "cell_type": "markdown",
   "id": "b541f659-0cb4-4261-bd2d-8fd35e7c52d1",
   "metadata": {},
   "source": [
    "1. SGDClassifier在训练时是完全随机的（因此得名“随机”​）​，如果你希望得到可复现的结果，需要设置参数random_state"
   ]
  },
  {
   "cell_type": "code",
   "execution_count": 10,
   "id": "9b87aa21-ff9d-46ea-a0ed-fb3059c85b67",
   "metadata": {},
   "outputs": [
    {
     "data": {
      "text/html": [
       "<style>#sk-container-id-1 {color: black;}#sk-container-id-1 pre{padding: 0;}#sk-container-id-1 div.sk-toggleable {background-color: white;}#sk-container-id-1 label.sk-toggleable__label {cursor: pointer;display: block;width: 100%;margin-bottom: 0;padding: 0.3em;box-sizing: border-box;text-align: center;}#sk-container-id-1 label.sk-toggleable__label-arrow:before {content: \"▸\";float: left;margin-right: 0.25em;color: #696969;}#sk-container-id-1 label.sk-toggleable__label-arrow:hover:before {color: black;}#sk-container-id-1 div.sk-estimator:hover label.sk-toggleable__label-arrow:before {color: black;}#sk-container-id-1 div.sk-toggleable__content {max-height: 0;max-width: 0;overflow: hidden;text-align: left;background-color: #f0f8ff;}#sk-container-id-1 div.sk-toggleable__content pre {margin: 0.2em;color: black;border-radius: 0.25em;background-color: #f0f8ff;}#sk-container-id-1 input.sk-toggleable__control:checked~div.sk-toggleable__content {max-height: 200px;max-width: 100%;overflow: auto;}#sk-container-id-1 input.sk-toggleable__control:checked~label.sk-toggleable__label-arrow:before {content: \"▾\";}#sk-container-id-1 div.sk-estimator input.sk-toggleable__control:checked~label.sk-toggleable__label {background-color: #d4ebff;}#sk-container-id-1 div.sk-label input.sk-toggleable__control:checked~label.sk-toggleable__label {background-color: #d4ebff;}#sk-container-id-1 input.sk-hidden--visually {border: 0;clip: rect(1px 1px 1px 1px);clip: rect(1px, 1px, 1px, 1px);height: 1px;margin: -1px;overflow: hidden;padding: 0;position: absolute;width: 1px;}#sk-container-id-1 div.sk-estimator {font-family: monospace;background-color: #f0f8ff;border: 1px dotted black;border-radius: 0.25em;box-sizing: border-box;margin-bottom: 0.5em;}#sk-container-id-1 div.sk-estimator:hover {background-color: #d4ebff;}#sk-container-id-1 div.sk-parallel-item::after {content: \"\";width: 100%;border-bottom: 1px solid gray;flex-grow: 1;}#sk-container-id-1 div.sk-label:hover label.sk-toggleable__label {background-color: #d4ebff;}#sk-container-id-1 div.sk-serial::before {content: \"\";position: absolute;border-left: 1px solid gray;box-sizing: border-box;top: 0;bottom: 0;left: 50%;z-index: 0;}#sk-container-id-1 div.sk-serial {display: flex;flex-direction: column;align-items: center;background-color: white;padding-right: 0.2em;padding-left: 0.2em;position: relative;}#sk-container-id-1 div.sk-item {position: relative;z-index: 1;}#sk-container-id-1 div.sk-parallel {display: flex;align-items: stretch;justify-content: center;background-color: white;position: relative;}#sk-container-id-1 div.sk-item::before, #sk-container-id-1 div.sk-parallel-item::before {content: \"\";position: absolute;border-left: 1px solid gray;box-sizing: border-box;top: 0;bottom: 0;left: 50%;z-index: -1;}#sk-container-id-1 div.sk-parallel-item {display: flex;flex-direction: column;z-index: 1;position: relative;background-color: white;}#sk-container-id-1 div.sk-parallel-item:first-child::after {align-self: flex-end;width: 50%;}#sk-container-id-1 div.sk-parallel-item:last-child::after {align-self: flex-start;width: 50%;}#sk-container-id-1 div.sk-parallel-item:only-child::after {width: 0;}#sk-container-id-1 div.sk-dashed-wrapped {border: 1px dashed gray;margin: 0 0.4em 0.5em 0.4em;box-sizing: border-box;padding-bottom: 0.4em;background-color: white;}#sk-container-id-1 div.sk-label label {font-family: monospace;font-weight: bold;display: inline-block;line-height: 1.2em;}#sk-container-id-1 div.sk-label-container {text-align: center;}#sk-container-id-1 div.sk-container {/* jupyter's `normalize.less` sets `[hidden] { display: none; }` but bootstrap.min.css set `[hidden] { display: none !important; }` so we also need the `!important` here to be able to override the default hidden behavior on the sphinx rendered scikit-learn.org. See: https://github.com/scikit-learn/scikit-learn/issues/21755 */display: inline-block !important;position: relative;}#sk-container-id-1 div.sk-text-repr-fallback {display: none;}</style><div id=\"sk-container-id-1\" class=\"sk-top-container\"><div class=\"sk-text-repr-fallback\"><pre>SGDClassifier()</pre><b>In a Jupyter environment, please rerun this cell to show the HTML representation or trust the notebook. <br />On GitHub, the HTML representation is unable to render, please try loading this page with nbviewer.org.</b></div><div class=\"sk-container\" hidden><div class=\"sk-item\"><div class=\"sk-estimator sk-toggleable\"><input class=\"sk-toggleable__control sk-hidden--visually\" id=\"sk-estimator-id-1\" type=\"checkbox\" checked><label for=\"sk-estimator-id-1\" class=\"sk-toggleable__label sk-toggleable__label-arrow\">SGDClassifier</label><div class=\"sk-toggleable__content\"><pre>SGDClassifier()</pre></div></div></div></div></div>"
      ],
      "text/plain": [
       "SGDClassifier()"
      ]
     },
     "execution_count": 10,
     "metadata": {},
     "output_type": "execute_result"
    }
   ],
   "source": [
    "from sklearn.linear_model import SGDClassifier\n",
    "\n",
    "sgd_clf = SGDClassifier()\n",
    "sgd_clf.fit(X_train, y_train_5)"
   ]
  },
  {
   "cell_type": "code",
   "execution_count": 11,
   "id": "631fab47-6571-4f25-a00d-08a5de1bff4e",
   "metadata": {},
   "outputs": [
    {
     "name": "stderr",
     "output_type": "stream",
     "text": [
      "c:\\Anaconda3\\envs\\opencv\\lib\\site-packages\\sklearn\\base.py:465: UserWarning: X does not have valid feature names, but SGDClassifier was fitted with feature names\n",
      "  warnings.warn(\n"
     ]
    },
    {
     "data": {
      "text/plain": [
       "array([False])"
      ]
     },
     "execution_count": 11,
     "metadata": {},
     "output_type": "execute_result"
    }
   ],
   "source": [
    "sgd_clf.predict([some_digit])"
   ]
  },
  {
   "cell_type": "markdown",
   "id": "fecbd7fc-ee40-46bf-9e99-72b89ece8258",
   "metadata": {},
   "source": [
    "#### 性能测量\n",
    "1. 评估分类器比评估回归器要困难得多\n",
    "2. 准确率通常无法成为分类器的首要性能指标，特别是当你处理有偏数据集时（即某些类比其他类更为频繁），比如猜数字是5还是不是5， 有90%的数字都不是5，所以只要一直猜不是5，都有90%的正确率"
   ]
  },
  {
   "cell_type": "markdown",
   "id": "50bfa331-f44f-4538-9e26-af0442fcae2f",
   "metadata": {},
   "source": [
    "##### 使用交叉验证测量准确率\n",
    "1. 每个折叠由StratifiedKFold执行分层抽样"
   ]
  },
  {
   "cell_type": "code",
   "execution_count": 12,
   "id": "06a84989-280f-423d-8267-aa0ce524a50d",
   "metadata": {},
   "outputs": [
    {
     "name": "stdout",
     "output_type": "stream",
     "text": [
      "0.96\n",
      "0.9655\n",
      "0.965\n"
     ]
    }
   ],
   "source": [
    "from sklearn.model_selection import StratifiedKFold\n",
    "from sklearn.base import clone\n",
    "\n",
    "skfolds = StratifiedKFold(n_splits=3, random_state=42, shuffle=True)\n",
    "\n",
    "for train_index, test_index in skfolds.split(X_train, y_train_5):\n",
    "    clone_clf = clone(sgd_clf)\n",
    "    X_train_folds = X_train.iloc[train_index]\n",
    "    y_train_folds = y_train_5.iloc[train_index]\n",
    "\n",
    "    X_test_fold = X_train.iloc[test_index]\n",
    "    y_test_fold = y_train_5.iloc[test_index]\n",
    "\n",
    "    clone_clf.fit(X_train_folds, y_train_folds)\n",
    "    y_pred = clone_clf.predict(X_test_fold)\n",
    "    n_correct = sum(y_pred == y_test_fold)\n",
    "    print(n_correct / len(y_pred))\n"
   ]
  },
  {
   "cell_type": "code",
   "execution_count": 13,
   "id": "713b79cb-e0fd-4ce0-90ea-1f38d389a706",
   "metadata": {},
   "outputs": [
    {
     "name": "stdout",
     "output_type": "stream",
     "text": [
      "Cross-Validation Accuracy Scores: [0.9405 0.95   0.9565]\n",
      "Average Cross-Validation Accuracy: 94.90%\n"
     ]
    }
   ],
   "source": [
    "# 使用内置的函数\n",
    "from sklearn.model_selection import cross_val_score\n",
    "\n",
    "scores = cross_val_score(sgd_clf, X_train, y_train_5, cv=3, scoring='accuracy')\n",
    "\n",
    "print(f\"Cross-Validation Accuracy Scores: {scores}\")\n",
    "print(f\"Average Cross-Validation Accuracy: {scores.mean():.2%}\")"
   ]
  },
  {
   "cell_type": "markdown",
   "id": "e910efbe-22f5-4e57-901a-4a60de90658b",
   "metadata": {},
   "source": [
    "#### 混淆矩阵\n",
    "1. 评估分类器性能的更好方法是混淆矩阵，其总体思路就是统计A类别实例被分成为B类别的次数。例如，要想知道分类器将数字3和数字5混淆多少次，只需要通过混淆矩阵的第5行第3列来查看\n",
    "2. 与cross_val_score（​）函数一样，cross_val_predict（​）函数同样执行K-折交叉验证，但返回的不是评估分数，而是每个折叠的预测。这意味着对于每个实例都可以得到一个干净的预测（​“干净”的意思是模型预测时使用的数据在其训练期间从未见过）​。"
   ]
  },
  {
   "cell_type": "code",
   "execution_count": 14,
   "id": "347027c8-ba0a-4466-9c63-ab8991d20f01",
   "metadata": {},
   "outputs": [],
   "source": [
    "from sklearn.model_selection import cross_val_predict\n",
    "\n",
    "y_train_pred = cross_val_predict(sgd_clf, X_train, y_train_5, cv=3)"
   ]
  },
  {
   "cell_type": "code",
   "execution_count": 15,
   "id": "0214efb3-6f43-458a-bbcb-07a9b2405c5c",
   "metadata": {},
   "outputs": [
    {
     "data": {
      "text/plain": [
       "array([[5342,  144],\n",
       "       [ 107,  407]], dtype=int64)"
      ]
     },
     "execution_count": 15,
     "metadata": {},
     "output_type": "execute_result"
    }
   ],
   "source": [
    "from sklearn.metrics import confusion_matrix\n",
    "confusion_matrix(y_train_5, y_train_pred)"
   ]
  },
  {
   "cell_type": "markdown",
   "id": "82cf0f3c-c7a2-4bff-b2a3-cdca56c7bcf5",
   "metadata": {
    "jp-MarkdownHeadingCollapsed": true
   },
   "source": [
    "##### 精度\n",
    "1. 正类预测的准确率是一个有意思的指标，它也称为分类器的精度\n",
    "2. 精度 = TP /（TP + FP） -- TP是真正类的数量，FP是假正类的数量"
   ]
  },
  {
   "cell_type": "markdown",
   "id": "d874270f-77c8-4eeb-9a81-b8f844e8ee72",
   "metadata": {},
   "source": [
    "##### 召回率\n",
    "1. 召回率 = TP / （TP + FN） -- FN是假负类的数量"
   ]
  },
  {
   "cell_type": "markdown",
   "id": "353ae582-ab48-4c9d-8dbf-135cc19c1a4a",
   "metadata": {},
   "source": [
    " <img src=\"./images/分类模型混淆矩阵.png\" width=\"500\" height=\"500\">"
   ]
  },
  {
   "cell_type": "markdown",
   "id": "dfdaee3c-0ced-46c3-a305-ed1ddef6a9cb",
   "metadata": {},
   "source": [
    "##### 精度和召回率\n",
    "\n",
    "1. 只有80%的概率是准确的，并且也只有74.7%的数字5被它检测出来了。\n",
    "2. 精度和召回率组合成一个单一的指标，称为F1分数\n",
    "3. 在某些情况下，你更关心的是精度，而另一些情况下，你可能真正关心的是召回率。例如，假设你训练一个分类器来检测儿童可以放心观看的视频，那么你可能更青睐那种拦截了很多好视频（低召回率）​，但是保留下来的视频都是安全（高精度）的分类器"
   ]
  },
  {
   "cell_type": "markdown",
   "id": "efad4d02-be9c-430c-a9c5-90c7b353a3b0",
   "metadata": {},
   "source": [
    "<img src='./images/F1score.png' width='1000' height='350'>"
   ]
  },
  {
   "cell_type": "code",
   "execution_count": 16,
   "id": "b678e6f4-347d-41fa-818f-7b163542442f",
   "metadata": {},
   "outputs": [
    {
     "name": "stdout",
     "output_type": "stream",
     "text": [
      "precision: 0.7386569872958257\n",
      "recall score: 0.791828793774319\n"
     ]
    }
   ],
   "source": [
    "from sklearn.metrics import precision_score, recall_score\n",
    "\n",
    "\n",
    "print(f\"precision: {precision_score(y_train_5, y_train_pred)}\")\n",
    "print(f\"recall score: {recall_score(y_train_5, y_train_pred)}\")"
   ]
  },
  {
   "cell_type": "code",
   "execution_count": 17,
   "id": "15ab5564-f775-414f-8de5-3eb8f3782ae5",
   "metadata": {},
   "outputs": [
    {
     "data": {
      "text/plain": [
       "0.7643192488262911"
      ]
     },
     "execution_count": 17,
     "metadata": {},
     "output_type": "execute_result"
    }
   ],
   "source": [
    "from sklearn.metrics import f1_score\n",
    "f1_score(y_train_5, y_train_pred)"
   ]
  },
  {
   "cell_type": "markdown",
   "id": "f0a43771",
   "metadata": {},
   "source": [
    "##### 精度和召回率权衡\n",
    "1. SGDClassifier如何进行分类决策。对于每个实例，它会基于决策函数计算出一个分值，如果该值大于阈值，则将该实例判为正类，否则便将其判为负类。\n",
    "2. Scikit-Learn不允许直接设置阈值，但是可以访问它用于预测的决策分数。不是调用分类器的predict（​）方法，而是调用decision_function（​）方法。"
   ]
  },
  {
   "cell_type": "code",
   "execution_count": 18,
   "id": "615ffdfa",
   "metadata": {},
   "outputs": [
    {
     "name": "stdout",
     "output_type": "stream",
     "text": [
      "[-14049.19197311]\n",
      "[False]\n"
     ]
    },
    {
     "name": "stderr",
     "output_type": "stream",
     "text": [
      "c:\\Anaconda3\\envs\\opencv\\lib\\site-packages\\sklearn\\base.py:465: UserWarning: X does not have valid feature names, but SGDClassifier was fitted with feature names\n",
      "  warnings.warn(\n"
     ]
    }
   ],
   "source": [
    "y_scores = sgd_clf.decision_function([some_digit])\n",
    "print(y_scores)\n",
    "threshold = 0\n",
    "y_some_digit_pred = (y_scores > threshold)\n",
    "print(y_some_digit_pred)"
   ]
  },
  {
   "cell_type": "markdown",
   "id": "fce778b3",
   "metadata": {},
   "source": [
    "1. 使用`cross_val_predict（​）`函数获取训练集中所有实例的分数，但是这次需要它返回的是**决策分数**而不是预测结果："
   ]
  },
  {
   "cell_type": "code",
   "execution_count": 19,
   "id": "89aa1cd5",
   "metadata": {},
   "outputs": [],
   "source": [
    "y_scores = cross_val_predict(sgd_clf, X_train, y_train_5, cv=3, method=\"decision_function\")"
   ]
  },
  {
   "cell_type": "code",
   "execution_count": 20,
   "id": "9529f60e",
   "metadata": {},
   "outputs": [
    {
     "name": "stdout",
     "output_type": "stream",
     "text": [
      "precision:  [0.08566667 0.08568095 0.08569523 ... 1.         1.         1.        ]\n",
      "recalls:  [1.         1.         1.         ... 0.00389105 0.00194553 0.        ]\n",
      "thresholds:  [-3675362.43980431 -3257523.21332688 -3229664.40050749 ...\n",
      "   951762.36795298  1026992.81781814  1069203.93651551]\n"
     ]
    }
   ],
   "source": [
    "from sklearn.metrics import precision_recall_curve\n",
    "\n",
    "precision, recalls, thresholds = precision_recall_curve(y_train_5, y_scores)\n",
    "print(\"precision: \",precision)\n",
    "print(\"recalls: \",recalls)\n",
    "print(\"thresholds: \",thresholds)"
   ]
  },
  {
   "cell_type": "markdown",
   "id": "7ee076a6",
   "metadata": {},
   "source": [
    "1. 使用Matplotlib绘制精度和召回率相对于阈值的函数图"
   ]
  },
  {
   "cell_type": "code",
   "execution_count": 21,
   "id": "db548008",
   "metadata": {},
   "outputs": [
    {
     "data": {
      "image/png": "[encoded data removed]",
      "text/plain": [
       "<Figure size 640x480 with 1 Axes>"
      ]
     },
     "metadata": {},
     "output_type": "display_data"
    }
   ],
   "source": [
    "def plot_precision_recall_vs_threshold(precisions, recalls, thresholds):\n",
    "    plt.plot(thresholds, precisions[:-1], \"b--\", label=\"Precision\")\n",
    "    plt.plot(thresholds, recalls[:-1], \"g-\", label=\"Recall\")\n",
    "    plt.xlabel(\"Threshold\")\n",
    "    plt.legend(loc=\"upper left\")\n",
    "    plt.ylim([0, 1])\n",
    "\n",
    "\n",
    "plot_precision_recall_vs_threshold(precision, recalls, thresholds)\n",
    "plt.show()"
   ]
  },
  {
   "cell_type": "code",
   "execution_count": 22,
   "id": "b421929f",
   "metadata": {},
   "outputs": [
    {
     "name": "stdout",
     "output_type": "stream",
     "text": [
      "118778.07483146629\n"
     ]
    }
   ],
   "source": [
    "# 找到精度大于等于90%的最低阈值\n",
    "thresholds_90_precision = thresholds[np.argmax(precision >= 0.90)]\n",
    "print(thresholds_90_precision)"
   ]
  },
  {
   "cell_type": "code",
   "execution_count": 23,
   "id": "42762d43",
   "metadata": {},
   "outputs": [
    {
     "data": {
      "image/png": "[encoded data removed]",
      "text/plain": [
       "<Figure size 640x480 with 1 Axes>"
      ]
     },
     "metadata": {},
     "output_type": "display_data"
    }
   ],
   "source": [
    "plt.plot(recalls, precision, '--r')\n",
    "plt.xlabel('recalls')\n",
    "plt.ylabel('precision')\n",
    "plt.grid()\n",
    "plt.show()"
   ]
  },
  {
   "cell_type": "code",
   "execution_count": 24,
   "id": "5cce43d1",
   "metadata": {},
   "outputs": [
    {
     "data": {
      "text/plain": [
       "0.9011857707509882"
      ]
     },
     "execution_count": 24,
     "metadata": {},
     "output_type": "execute_result"
    }
   ],
   "source": [
    "y_train_pred_90 = (y_scores >= thresholds_90_precision)\n",
    "precision_score(y_train_5, y_train_pred_90)"
   ]
  },
  {
   "cell_type": "code",
   "execution_count": 25,
   "id": "29a8e5b0",
   "metadata": {},
   "outputs": [
    {
     "data": {
      "text/plain": [
       "0.44357976653696496"
      ]
     },
     "execution_count": 25,
     "metadata": {},
     "output_type": "execute_result"
    }
   ],
   "source": [
    "recall_score(y_train_5, y_train_pred_90)"
   ]
  },
  {
   "cell_type": "markdown",
   "id": "c35c025d",
   "metadata": {},
   "source": [
    "如果有人说：​“我们需要99%的精度。​”你就应该问：​“召回率是多少？​”"
   ]
  },
  {
   "cell_type": "markdown",
   "id": "eb54b2eb",
   "metadata": {},
   "source": [
    "#### ROC曲线\n",
    "1. 正确分类成功和正确分类失败的关系\n",
    "2. 一个优秀的分类器应该离这条线越远越好（向左上角移动）\n",
    "3. 横轴 (X-axis: False Positive Rate, FPR)：\n",
    "    - False Positive Rate (FPR) 表示误报率，即将负类错误地预测为正类的比例。它是FP / (FP + TN)，其中FP是假阳性，TN是真阴性。在这条轴上，值越小越好，表示误报越少。\n",
    "4. 纵轴 (Y-axis: True Positive Rate, TPR)：\n",
    "    - True Positive Rate (TPR)，也叫敏感度或召回率，表示将正类正确预测为正类的比例。它是TP / (TP + FN)，其中TP是真阳性，FN是假阴性。在这条轴上，值越大越好，表示更高的召回率。"
   ]
  },
  {
   "cell_type": "code",
   "execution_count": 26,
   "id": "705c9127",
   "metadata": {},
   "outputs": [],
   "source": [
    "\n",
    "from sklearn.metrics import roc_curve\n",
    "\n",
    "fpr, tpr, thresholds = roc_curve(y_train_5, y_scores)"
   ]
  },
  {
   "cell_type": "code",
   "execution_count": 27,
   "id": "0f2d6af0",
   "metadata": {},
   "outputs": [
    {
     "data": {
      "image/png": "[encoded data removed]",
      "text/plain": [
       "<Figure size 640x480 with 1 Axes>"
      ]
     },
     "metadata": {},
     "output_type": "display_data"
    }
   ],
   "source": [
    "def plot_roc_curve(fpr, tpr, label=None):\n",
    "    plt.plot(fpr, tpr, linewidth=2, label=label)\n",
    "    plt.plot([0,1],[0,1],'k--')\n",
    "    plt.axis([0,1,0,1])\n",
    "    plt.xlabel('False Positive Rate')\n",
    "    plt.ylabel('True Positive Rate')\n",
    "    plt.grid()\n",
    "plot_roc_curve(fpr, tpr)\n",
    "plt.show()"
   ]
  },
  {
   "cell_type": "code",
   "execution_count": 28,
   "id": "169a98d7",
   "metadata": {},
   "outputs": [
    {
     "data": {
      "text/plain": [
       "0.9541716374613272"
      ]
     },
     "execution_count": 28,
     "metadata": {},
     "output_type": "execute_result"
    }
   ],
   "source": [
    "from sklearn.metrics import roc_auc_score\n",
    "roc_auc_score(y_train_5, y_scores)"
   ]
  },
  {
   "cell_type": "markdown",
   "id": "e08a601e",
   "metadata": {},
   "source": [
    "#### 使用RandomForest分类器\n",
    "\n",
    "1. RandomForestClassifier类没有decision_function（​）方法，相反，它有dict_proba（​）方法。Scikit-Learn的分类器通常都会有这两种方法中的一种（或两种都有）​。"
   ]
  },
  {
   "cell_type": "code",
   "execution_count": 29,
   "id": "6633dbfb",
   "metadata": {},
   "outputs": [],
   "source": [
    "from sklearn.ensemble import RandomForestClassifier\n",
    "\n",
    "forest_clf = RandomForestClassifier(random_state=42)\n",
    "y_probas_forest = cross_val_predict(forest_clf, X_train, y_train_5, cv=3, method='predict_proba')"
   ]
  },
  {
   "cell_type": "markdown",
   "id": "373c2b36",
   "metadata": {},
   "source": [
    "1. 在计算ROC曲线时，我们需要**对每个阈值**计算TPR和FPR。通常情况下，我们使用模型预测的概率值作为阈值。这是因为概率值可以反映模型对样本的 confidence，从而更好地评估模型在不同阈值下的性能。\n",
    "\n",
    "2. y_scores_forest是模型预测的概率值，因此可以直接用于计算ROC曲线。总之，使用概率值计算ROC曲线的原因是，概率值可以反映模型对样本的 confidence，从而更好地评估模型在不同阈值下的性能。"
   ]
  },
  {
   "cell_type": "code",
   "execution_count": 30,
   "id": "64944b4c",
   "metadata": {},
   "outputs": [],
   "source": [
    "y_scores_forest = y_probas_forest[:,1]\n",
    "\n",
    "fpr_forest, tpr_forest, thresholds_forest = roc_curve(y_train_5, y_scores_forest)"
   ]
  },
  {
   "cell_type": "code",
   "execution_count": 31,
   "id": "93624aad",
   "metadata": {},
   "outputs": [
    {
     "data": {
      "image/png": "[encoded data removed]",
      "text/plain": [
       "<Figure size 640x480 with 1 Axes>"
      ]
     },
     "metadata": {},
     "output_type": "display_data"
    }
   ],
   "source": [
    "plt.plot(fpr, tpr, \"b:\", label='SGD')\n",
    "plot_roc_curve(fpr_forest, tpr_forest, 'Random Forest')\n",
    "plt.legend(loc='lower right')\n",
    "plt.show()"
   ]
  },
  {
   "cell_type": "code",
   "execution_count": 32,
   "id": "eb0d8272",
   "metadata": {},
   "outputs": [
    {
     "data": {
      "text/plain": [
       "0.9936162229715256"
      ]
     },
     "execution_count": 32,
     "metadata": {},
     "output_type": "execute_result"
    }
   ],
   "source": [
    "roc_auc_score(y_train_5, y_scores_forest)"
   ]
  },
  {
   "cell_type": "code",
   "execution_count": 33,
   "id": "3384d91d",
   "metadata": {},
   "outputs": [],
   "source": [
    "y_forest_bool = cross_val_predict(forest_clf, X_train, y_train_5, cv=3, method='predict')"
   ]
  },
  {
   "cell_type": "code",
   "execution_count": 34,
   "id": "a9d8ee2b",
   "metadata": {},
   "outputs": [
    {
     "data": {
      "text/plain": [
       "0.9886363636363636"
      ]
     },
     "execution_count": 34,
     "metadata": {},
     "output_type": "execute_result"
    }
   ],
   "source": [
    "precision_score(y_train_5, y_forest_bool)"
   ]
  },
  {
   "cell_type": "code",
   "execution_count": 35,
   "id": "4e1c58e7",
   "metadata": {},
   "outputs": [
    {
     "data": {
      "text/plain": [
       "0.6770428015564203"
      ]
     },
     "execution_count": 35,
     "metadata": {},
     "output_type": "execute_result"
    }
   ],
   "source": [
    "recall_score(y_train_5, y_forest_bool)"
   ]
  },
  {
   "cell_type": "markdown",
   "id": "c3d2eea4",
   "metadata": {},
   "source": [
    "### 多类分类器"
   ]
  },
  {
   "cell_type": "markdown",
   "id": "1f59f7a0",
   "metadata": {},
   "source": [
    "1. 一种方法是训练10个二元分类器，每个数字一个（0-检测器、1-检测器、2-检测器，以此类推）​。\n",
    "2. 当你需要对一张图片进行检测分类时，获取每个分类器的决策分数，哪个分类器给分最高，就将其分为哪个类。这称为一对剩余（OvR）策略，也称为一对多（one-versus-all）​。\n",
    "3. 另一种方法是为每一对数字训练一个二元分类器：一个用于区分0和1，一个区分0和2，一个区分1和2，以此类推。这称为一对一（OvO）策略。如果存在N个类别，那么这需要训练N×（N-1）/2个分类器\n",
    "4. OvO的主要优点在于，每个分类器只需要用到**部分训练集**对其必须区分的两个类进行训练且速度大\n",
    "5. Scikit-Learn可以检测到你尝试使用二元分类算法进行多类分类任务，它会根据情况自动运行OvR或者OvO"
   ]
  },
  {
   "cell_type": "markdown",
   "id": "4c6de4db",
   "metadata": {
    "notebookRunGroups": {
     "groupValue": ""
    }
   },
   "source": [
    "Scikit-Learn实际上训练了45个二元分类器，获得它们对图片的决策分数，然后选择了分数最高的类。"
   ]
  },
  {
   "cell_type": "code",
   "execution_count": 36,
   "id": "0a83e354",
   "metadata": {},
   "outputs": [
    {
     "name": "stderr",
     "output_type": "stream",
     "text": [
      "c:\\Anaconda3\\envs\\opencv\\lib\\site-packages\\sklearn\\base.py:465: UserWarning: X does not have valid feature names, but SVC was fitted with feature names\n",
      "  warnings.warn(\n"
     ]
    },
    {
     "data": {
      "text/plain": [
       "array([5], dtype=uint8)"
      ]
     },
     "execution_count": 36,
     "metadata": {},
     "output_type": "execute_result"
    }
   ],
   "source": [
    "from sklearn.svm import SVC\n",
    "svm_clf = SVC()\n",
    "svm_clf.fit(X_train, y_train)\n",
    "svm_clf.predict([some_digit])\n"
   ]
  },
  {
   "cell_type": "code",
   "execution_count": 37,
   "id": "6b0e67d0",
   "metadata": {},
   "outputs": [
    {
     "name": "stdout",
     "output_type": "stream",
     "text": [
      "[[ 1.74201669  3.75934047  6.18134457  8.29644372 -0.30252035  9.30527336\n",
      "   1.74930094  2.77838477  7.19221016  3.87315474]]\n"
     ]
    },
    {
     "name": "stderr",
     "output_type": "stream",
     "text": [
      "c:\\Anaconda3\\envs\\opencv\\lib\\site-packages\\sklearn\\base.py:465: UserWarning: X does not have valid feature names, but SVC was fitted with feature names\n",
      "  warnings.warn(\n"
     ]
    }
   ],
   "source": [
    "some_digit_scores = svm_clf.decision_function([some_digit])\n",
    "print(some_digit_scores)"
   ]
  },
  {
   "cell_type": "code",
   "execution_count": 38,
   "id": "247e7f6b",
   "metadata": {},
   "outputs": [
    {
     "data": {
      "text/plain": [
       "array([0.856, 0.877, 0.865])"
      ]
     },
     "execution_count": 38,
     "metadata": {},
     "output_type": "execute_result"
    }
   ],
   "source": [
    "sgd_clf = SGDClassifier()\n",
    "sgd_clf.fit(X_train, y_train)\n",
    "cross_val_score(sgd_clf, X_train, y_train, cv=3, scoring='accuracy')"
   ]
  },
  {
   "cell_type": "markdown",
   "id": "331a9be4",
   "metadata": {},
   "source": [
    "将输入进行简单缩放（如第2章所述归一化）可以将准确率提到89%以上："
   ]
  },
  {
   "cell_type": "code",
   "execution_count": 39,
   "id": "6c5181ce",
   "metadata": {},
   "outputs": [
    {
     "data": {
      "text/plain": [
       "array([0.8685, 0.896 , 0.8905])"
      ]
     },
     "execution_count": 39,
     "metadata": {},
     "output_type": "execute_result"
    }
   ],
   "source": [
    "from sklearn.preprocessing import StandardScaler\n",
    "\n",
    "scaler = StandardScaler()\n",
    "X_train_scaled = scaler.fit_transform(X_train.astype(np.float64))\n",
    "cross_val_score(sgd_clf, X_train_scaled, y_train, cv=3, scoring='accuracy')"
   ]
  },
  {
   "cell_type": "markdown",
   "id": "60f980d9",
   "metadata": {},
   "source": [
    "#### 误差分析"
   ]
  },
  {
   "cell_type": "markdown",
   "id": "b56189d4",
   "metadata": {},
   "source": [
    "1. 如果这是一个真正的项目，你将遵循机器学习项目清单中的步骤（见附录B）​：探索数据准备的选项，尝试多个模型，列出最佳模型并用GridSearchCV对其超参数进行微调，尽可能自动化，等等。正如你在之前的章节里尝试的那些。在这里，假设你已经找到了一个有潜力的模型，现在你希望找到一些方法对其进一步改进。方法之一就是分析其**错误类型**"
   ]
  },
  {
   "cell_type": "code",
   "execution_count": 40,
   "id": "3917718e",
   "metadata": {},
   "outputs": [
    {
     "name": "stderr",
     "output_type": "stream",
     "text": [
      "c:\\Anaconda3\\envs\\opencv\\lib\\site-packages\\sklearn\\base.py:465: UserWarning: X does not have valid feature names, but SGDClassifier was fitted with feature names\n",
      "  warnings.warn(\n"
     ]
    },
    {
     "data": {
      "text/plain": [
       "array([[-1012918.23834083,  -490516.21089758,  -398181.42077246,\n",
       "          -17976.94046638,  -595689.83476232,   -15779.38046973,\n",
       "         -537908.78382641,  -616095.02314662,  -289676.09345707,\n",
       "         -381239.03760726]])"
      ]
     },
     "execution_count": 40,
     "metadata": {},
     "output_type": "execute_result"
    }
   ],
   "source": [
    "sgd_clf.decision_function([some_digit])"
   ]
  },
  {
   "cell_type": "code",
   "execution_count": 41,
   "id": "ae60e6ac",
   "metadata": {},
   "outputs": [
    {
     "data": {
      "text/plain": [
       "0       5\n",
       "1       0\n",
       "2       4\n",
       "3       1\n",
       "4       9\n",
       "       ..\n",
       "5995    7\n",
       "5996    6\n",
       "5997    8\n",
       "5998    6\n",
       "5999    9\n",
       "Name: class, Length: 6000, dtype: uint8"
      ]
     },
     "execution_count": 41,
     "metadata": {},
     "output_type": "execute_result"
    }
   ],
   "source": [
    "y_train"
   ]
  },
  {
   "cell_type": "code",
   "execution_count": 42,
   "id": "5b9577f9",
   "metadata": {},
   "outputs": [
    {
     "name": "stdout",
     "output_type": "stream",
     "text": [
      "[[4637    0   28   28    8   22   55    2   58    7]\n",
      " [   2 5286   45   22    6   31   13   10   77   21]\n",
      " [  50   69 4076  224   61   19   75   71  185   27]\n",
      " [  25   20  283 4161   18  192   18   35  125   88]\n",
      " [  12   17   47    9 4439    9   41   19   37  258]\n",
      " [  63   15   49  211   89 3474  102   19  227  149]\n",
      " [  43   21   51   12   33   85 4478    3   56    6]\n",
      " [  17   19   84   41   91   10    4 4296   33  450]\n",
      " [  32   98  198  371   87  198   35   18 3586  210]\n",
      " [  16   20   46   65  289   74    4  111   81 4162]]\n"
     ]
    }
   ],
   "source": [
    "from sklearn.metrics import confusion_matrix\n",
    "from sklearn.model_selection import train_test_split\n",
    "import numpy as np\n",
    "from sklearn.linear_model import SGDClassifier\n",
    "from sklearn.model_selection import cross_val_predict\n",
    "\n",
    "X, y = mnist['data'], mnist['target']\n",
    "# 2. 转换标签为整数类型\n",
    "y = y.astype(np.int8)\n",
    "\n",
    "# 3. 拆分数据集为训练集和测试集（例如，70% 训练，30% 测试）\n",
    "X_train, X_test, y_train, y_test = train_test_split(X, y, test_size=0.3, random_state=42)\n",
    "\n",
    "# 4. 初始化分类器\n",
    "sgd_clf = SGDClassifier(random_state=42)\n",
    "\n",
    "# 5. 使用 cross_val_predict 生成预测标签\n",
    "y_train_pred = cross_val_predict(sgd_clf, X_train, y_train, cv=3)\n",
    "\n",
    "# 6. 计算混淆矩阵\n",
    "conf_mx = confusion_matrix(y_train, y_train_pred)\n",
    "print(conf_mx)"
   ]
  },
  {
   "cell_type": "code",
   "execution_count": 43,
   "id": "5d0c6407",
   "metadata": {},
   "outputs": [
    {
     "data": {
      "image/png": "[encoded data removed]",
      "text/plain": [
       "<Figure size 480x480 with 1 Axes>"
      ]
     },
     "metadata": {},
     "output_type": "display_data"
    }
   ],
   "source": [
    "import matplotlib.pyplot as plt\n",
    "\n",
    "plt.matshow(conf_mx, cmap=plt.cm.gray)\n",
    "plt.show()"
   ]
  },
  {
   "cell_type": "markdown",
   "id": "372f619a",
   "metadata": {},
   "source": [
    "1. 大多数在主对角线上，说明被正确分类，数字5看起来比其他数字稍稍暗一些，这可能意味着数据集中数字5的图片较少，也可能是数字5的执行效果不如其他数字效果好\n",
    "2. 将混淆矩阵中的每个值除以相应类中的图片数量，这样你比较的就是错误率而不是错误的绝对值（后者对图片数量较多的类不公平"
   ]
  },
  {
   "cell_type": "code",
   "execution_count": 44,
   "id": "25c20c7f",
   "metadata": {},
   "outputs": [],
   "source": [
    "# axis=1表示对每一行进行求和，keepdims=True表示在结果中保留行维度，这样得到的结果是一个二维数组，其中每一行元素的和表示该行所有元素的总和。\n",
    "\n",
    "row_sums = conf_mx.sum(axis=1, keepdims=True)\n",
    "norm_conf_mx = conf_mx / row_sums"
   ]
  },
  {
   "cell_type": "code",
   "execution_count": 45,
   "id": "cf028857",
   "metadata": {},
   "outputs": [
    {
     "data": {
      "image/png": "[encoded data removed]",
      "text/plain": [
       "<Figure size 480x480 with 1 Axes>"
      ]
     },
     "metadata": {},
     "output_type": "display_data"
    }
   ],
   "source": [
    "np.fill_diagonal(norm_conf_mx, 0)\n",
    "plt.matshow(norm_conf_mx, cmap=plt.cm.gray)\n",
    "plt.show()"
   ]
  },
  {
   "cell_type": "markdown",
   "id": "8af5b946",
   "metadata": {},
   "source": [
    "分析混淆矩阵通常可以帮助你深入了解如何改进分类器。通过上图来看，你的精力可以花在改进数字8的分类错误上。"
   ]
  },
  {
   "cell_type": "code",
   "execution_count": 46,
   "id": "acd66d4c",
   "metadata": {},
   "outputs": [],
   "source": [
    "def plot_digits(instances, images_per_row=5, img_shape=(28, 28), **options):\n",
    "    size = len(instances)\n",
    "    images_per_row = min(size, images_per_row)\n",
    "    images = [instance.reshape(img_shape) for instance in instances]\n",
    "    \n",
    "    n_rows = (size - 1) // images_per_row + 1\n",
    "    row_images = []\n",
    "    \n",
    "    # Arrange images into rows\n",
    "    for row in range(n_rows):\n",
    "        rimages = images[row * images_per_row: (row + 1) * images_per_row]\n",
    "        row_images.append(np.concatenate(rimages, axis=1))\n",
    "    \n",
    "    image = np.concatenate(row_images, axis=0)\n",
    "    \n",
    "    # Display the concatenated image\n",
    "    plt.imshow(image, cmap=plt.cm.binary, **options)\n",
    "    plt.axis(\"off\")"
   ]
  },
  {
   "cell_type": "code",
   "execution_count": 47,
   "id": "263102e8",
   "metadata": {},
   "outputs": [
    {
     "data": {
      "image/png": "[encoded data removed]",
      "text/plain": [
       "<Figure size 800x800 with 4 Axes>"
      ]
     },
     "metadata": {},
     "output_type": "display_data"
    }
   ],
   "source": [
    "cl_a, cl_b = 3, 5\n",
    "# X_train是pandas的DataFrame类型，需要将其转换为numpy数据，.values方法可以将DataFrame转化为Numpy数组\n",
    "X_aa = X_train[(y_train == cl_a) & (y_train_pred == cl_a)].values\n",
    "X_ab = X_train[(y_train == cl_a) & (y_train_pred == cl_b)].values\n",
    "X_ba = X_train[(y_train == cl_b) & (y_train_pred == cl_a)].values\n",
    "X_bb = X_train[(y_train == cl_b) & (y_train_pred == cl_b)].values\n",
    "\n",
    "plt.figure(figsize=(8,8))\n",
    "plt.subplot(221); plot_digits(X_aa[:25], images_per_row=5)\n",
    "plt.subplot(222); plot_digits(X_ab[:25], images_per_row=5)\n",
    "plt.subplot(223); plot_digits(X_ba[:25], images_per_row=5)\n",
    "plt.subplot(224); plot_digits(X_bb[:25], images_per_row=5)\n",
    "plt.show()"
   ]
  },
  {
   "cell_type": "markdown",
   "id": "6f4ed120",
   "metadata": {},
   "source": [
    "1. 原因在于，我们使用的简单的SGDClassifier模型是一个线性模型。它所做的就是为每个像素分配一个各个类别的权重，当它看到新的图像时，将加权后的像素强度汇总，从而得到一个分数进行分类。而数字3和数字5只在一部分像素位上有区别，所以分类器很容易将其弄混。\n",
    "\n",
    "2. 数字3和数字5之间的主要区别是在于连接顶线和下方弧线的中间那段小线条的位置。如果你写的数字3将连接点略往左移，分类器就可能将其分类为数字5，反之亦然。换言之，这个分类器对图像移位和旋转非常敏感。\n",
    "\n",
    "3. 因此，减少数字3和数字5混淆的方法之一，就是对图片进行预处理，确保它们位于中心位置并且没有旋转。这也同样有助于减少其他错误。"
   ]
  },
  {
   "cell_type": "markdown",
   "id": "612075ca",
   "metadata": {},
   "source": [
    "#### 多分类标签"
   ]
  },
  {
   "cell_type": "code",
   "execution_count": 48,
   "id": "245eb453",
   "metadata": {},
   "outputs": [
    {
     "data": {
      "text/html": [
       "<style>#sk-container-id-2 {color: black;}#sk-container-id-2 pre{padding: 0;}#sk-container-id-2 div.sk-toggleable {background-color: white;}#sk-container-id-2 label.sk-toggleable__label {cursor: pointer;display: block;width: 100%;margin-bottom: 0;padding: 0.3em;box-sizing: border-box;text-align: center;}#sk-container-id-2 label.sk-toggleable__label-arrow:before {content: \"▸\";float: left;margin-right: 0.25em;color: #696969;}#sk-container-id-2 label.sk-toggleable__label-arrow:hover:before {color: black;}#sk-container-id-2 div.sk-estimator:hover label.sk-toggleable__label-arrow:before {color: black;}#sk-container-id-2 div.sk-toggleable__content {max-height: 0;max-width: 0;overflow: hidden;text-align: left;background-color: #f0f8ff;}#sk-container-id-2 div.sk-toggleable__content pre {margin: 0.2em;color: black;border-radius: 0.25em;background-color: #f0f8ff;}#sk-container-id-2 input.sk-toggleable__control:checked~div.sk-toggleable__content {max-height: 200px;max-width: 100%;overflow: auto;}#sk-container-id-2 input.sk-toggleable__control:checked~label.sk-toggleable__label-arrow:before {content: \"▾\";}#sk-container-id-2 div.sk-estimator input.sk-toggleable__control:checked~label.sk-toggleable__label {background-color: #d4ebff;}#sk-container-id-2 div.sk-label input.sk-toggleable__control:checked~label.sk-toggleable__label {background-color: #d4ebff;}#sk-container-id-2 input.sk-hidden--visually {border: 0;clip: rect(1px 1px 1px 1px);clip: rect(1px, 1px, 1px, 1px);height: 1px;margin: -1px;overflow: hidden;padding: 0;position: absolute;width: 1px;}#sk-container-id-2 div.sk-estimator {font-family: monospace;background-color: #f0f8ff;border: 1px dotted black;border-radius: 0.25em;box-sizing: border-box;margin-bottom: 0.5em;}#sk-container-id-2 div.sk-estimator:hover {background-color: #d4ebff;}#sk-container-id-2 div.sk-parallel-item::after {content: \"\";width: 100%;border-bottom: 1px solid gray;flex-grow: 1;}#sk-container-id-2 div.sk-label:hover label.sk-toggleable__label {background-color: #d4ebff;}#sk-container-id-2 div.sk-serial::before {content: \"\";position: absolute;border-left: 1px solid gray;box-sizing: border-box;top: 0;bottom: 0;left: 50%;z-index: 0;}#sk-container-id-2 div.sk-serial {display: flex;flex-direction: column;align-items: center;background-color: white;padding-right: 0.2em;padding-left: 0.2em;position: relative;}#sk-container-id-2 div.sk-item {position: relative;z-index: 1;}#sk-container-id-2 div.sk-parallel {display: flex;align-items: stretch;justify-content: center;background-color: white;position: relative;}#sk-container-id-2 div.sk-item::before, #sk-container-id-2 div.sk-parallel-item::before {content: \"\";position: absolute;border-left: 1px solid gray;box-sizing: border-box;top: 0;bottom: 0;left: 50%;z-index: -1;}#sk-container-id-2 div.sk-parallel-item {display: flex;flex-direction: column;z-index: 1;position: relative;background-color: white;}#sk-container-id-2 div.sk-parallel-item:first-child::after {align-self: flex-end;width: 50%;}#sk-container-id-2 div.sk-parallel-item:last-child::after {align-self: flex-start;width: 50%;}#sk-container-id-2 div.sk-parallel-item:only-child::after {width: 0;}#sk-container-id-2 div.sk-dashed-wrapped {border: 1px dashed gray;margin: 0 0.4em 0.5em 0.4em;box-sizing: border-box;padding-bottom: 0.4em;background-color: white;}#sk-container-id-2 div.sk-label label {font-family: monospace;font-weight: bold;display: inline-block;line-height: 1.2em;}#sk-container-id-2 div.sk-label-container {text-align: center;}#sk-container-id-2 div.sk-container {/* jupyter's `normalize.less` sets `[hidden] { display: none; }` but bootstrap.min.css set `[hidden] { display: none !important; }` so we also need the `!important` here to be able to override the default hidden behavior on the sphinx rendered scikit-learn.org. See: https://github.com/scikit-learn/scikit-learn/issues/21755 */display: inline-block !important;position: relative;}#sk-container-id-2 div.sk-text-repr-fallback {display: none;}</style><div id=\"sk-container-id-2\" class=\"sk-top-container\"><div class=\"sk-text-repr-fallback\"><pre>KNeighborsClassifier()</pre><b>In a Jupyter environment, please rerun this cell to show the HTML representation or trust the notebook. <br />On GitHub, the HTML representation is unable to render, please try loading this page with nbviewer.org.</b></div><div class=\"sk-container\" hidden><div class=\"sk-item\"><div class=\"sk-estimator sk-toggleable\"><input class=\"sk-toggleable__control sk-hidden--visually\" id=\"sk-estimator-id-2\" type=\"checkbox\" checked><label for=\"sk-estimator-id-2\" class=\"sk-toggleable__label sk-toggleable__label-arrow\">KNeighborsClassifier</label><div class=\"sk-toggleable__content\"><pre>KNeighborsClassifier()</pre></div></div></div></div></div>"
      ],
      "text/plain": [
       "KNeighborsClassifier()"
      ]
     },
     "execution_count": 48,
     "metadata": {},
     "output_type": "execute_result"
    }
   ],
   "source": [
    "from sklearn.neighbors import KNeighborsClassifier\n",
    "\n",
    "y_train_larger = (y_train >= 7)\n",
    "y_train_odd = (y_train % 2 == 1)\n",
    "y_multilabel = np.c_[y_train_larger, y_train_odd]\n",
    "\n",
    "knn_clf = KNeighborsClassifier()\n",
    "knn_clf.fit(X_train, y_multilabel)"
   ]
  },
  {
   "cell_type": "code",
   "execution_count": 49,
   "id": "b3e433d1",
   "metadata": {},
   "outputs": [
    {
     "name": "stderr",
     "output_type": "stream",
     "text": [
      "c:\\Anaconda3\\envs\\opencv\\lib\\site-packages\\sklearn\\base.py:465: UserWarning: X does not have valid feature names, but KNeighborsClassifier was fitted with feature names\n",
      "  warnings.warn(\n"
     ]
    },
    {
     "data": {
      "text/plain": [
       "array([[False,  True]])"
      ]
     },
     "execution_count": 49,
     "metadata": {},
     "output_type": "execute_result"
    }
   ],
   "source": [
    "knn_clf.predict([some_digit])"
   ]
  },
  {
   "cell_type": "markdown",
   "id": "42f2a047",
   "metadata": {},
   "source": [
    "5确实不大，为奇数"
   ]
  },
  {
   "cell_type": "markdown",
   "id": "fc2a10e4",
   "metadata": {},
   "source": [
    "#### 评估多分类器\n",
    "1. 平均F1分数\n",
    "    - 假设所有的标签都是同等重要\n",
    "    - 加权标签"
   ]
  },
  {
   "cell_type": "code",
   "execution_count": 50,
   "id": "12cd8b54",
   "metadata": {},
   "outputs": [],
   "source": [
    "y_train_knn_pred = cross_val_predict(knn_clf, X_train, y_multilabel, cv=3)"
   ]
  },
  {
   "cell_type": "code",
   "execution_count": 51,
   "id": "c587d2f5",
   "metadata": {},
   "outputs": [
    {
     "data": {
      "text/plain": [
       "0.9748370741124373"
      ]
     },
     "execution_count": 51,
     "metadata": {},
     "output_type": "execute_result"
    }
   ],
   "source": [
    "from sklearn.metrics import f1_score\n",
    "f1_score(y_multilabel, y_train_knn_pred, average=\"macro\")"
   ]
  },
  {
   "cell_type": "markdown",
   "id": "1ab4a777",
   "metadata": {},
   "source": [
    "#### 多输出分类"
   ]
  },
  {
   "cell_type": "markdown",
   "id": "03caff80",
   "metadata": {},
   "source": [
    "目标是将图片还原为原始图片"
   ]
  },
  {
   "cell_type": "code",
   "execution_count": 52,
   "id": "1c853a39",
   "metadata": {},
   "outputs": [],
   "source": [
    "noise = np.random.randint(0, 100, (len(X_train), 784))\n",
    "X_train_mod = X_train + noise\n",
    "noise = np.random.randint(0, 100, (len(X_test), 784))\n",
    "X_test_mod = X_test + noise\n",
    "y_train_mod = X_train\n",
    "y_test_mod = X_test"
   ]
  },
  {
   "cell_type": "code",
   "execution_count": 53,
   "id": "b1849477",
   "metadata": {},
   "outputs": [
    {
     "data": {
      "image/png": "[encoded data removed]",
      "text/plain": [
       "<Figure size 640x480 with 1 Axes>"
      ]
     },
     "metadata": {},
     "output_type": "display_data"
    }
   ],
   "source": [
    "plot_digits([X_test_mod.iloc[some_digit].values[0]])"
   ]
  },
  {
   "cell_type": "code",
   "execution_count": 54,
   "id": "afa7ca72",
   "metadata": {},
   "outputs": [
    {
     "name": "stderr",
     "output_type": "stream",
     "text": [
      "c:\\Anaconda3\\envs\\opencv\\lib\\site-packages\\sklearn\\base.py:465: UserWarning: X does not have valid feature names, but KNeighborsClassifier was fitted with feature names\n",
      "  warnings.warn(\n"
     ]
    }
   ],
   "source": [
    "knn_clf.fit(X_train_mod, y_train_mod)\n",
    "clean_digit = knn_clf.predict(X_test_mod.iloc[some_digit].values)\n"
   ]
  },
  {
   "cell_type": "code",
   "execution_count": 55,
   "id": "39eb7022",
   "metadata": {},
   "outputs": [
    {
     "data": {
      "image/png": "[encoded data removed]",
      "text/plain": [
       "<Figure size 640x480 with 1 Axes>"
      ]
     },
     "metadata": {},
     "output_type": "display_data"
    }
   ],
   "source": [
    "plot_digits([clean_digit[1]], images_per_row=1)\n"
   ]
  },
  {
   "cell_type": "markdown",
   "id": "390a4e89",
   "metadata": {},
   "source": [
    "### 练习题"
   ]
  },
  {
   "cell_type": "code",
   "execution_count": 56,
   "id": "3dc13a84",
   "metadata": {},
   "outputs": [],
   "source": [
    "from sklearn.model_selection import train_test_split\n",
    "# 分测试集和训练集\n",
    "X_train, X_test, y_train, y_test = train_test_split(X, y, test_size=0.3, random_state=42)"
   ]
  },
  {
   "cell_type": "code",
   "execution_count": 57,
   "id": "ffe32c7a",
   "metadata": {},
   "outputs": [
    {
     "name": "stdout",
     "output_type": "stream",
     "text": [
      "Fitting 3 folds for each of 20 candidates, totalling 60 fits\n",
      "[CV] END .....................n_neighbors=1, weights=uniform; total time=  13.4s\n",
      "[CV] END .....................n_neighbors=1, weights=uniform; total time=  12.7s\n",
      "[CV] END .....................n_neighbors=1, weights=uniform; total time=  13.8s\n",
      "[CV] END ....................n_neighbors=1, weights=distance; total time=  13.3s\n",
      "[CV] END ....................n_neighbors=1, weights=distance; total time=  13.5s\n",
      "[CV] END ....................n_neighbors=1, weights=distance; total time=  13.7s\n",
      "[CV] END .....................n_neighbors=2, weights=uniform; total time=  14.8s\n",
      "[CV] END .....................n_neighbors=2, weights=uniform; total time=  14.2s\n",
      "[CV] END .....................n_neighbors=2, weights=uniform; total time=  13.7s\n",
      "[CV] END ....................n_neighbors=2, weights=distance; total time=  12.9s\n",
      "[CV] END ....................n_neighbors=2, weights=distance; total time=  13.2s\n",
      "[CV] END ....................n_neighbors=2, weights=distance; total time=  13.0s\n",
      "[CV] END .....................n_neighbors=3, weights=uniform; total time=  14.9s\n",
      "[CV] END .....................n_neighbors=3, weights=uniform; total time=  12.9s\n",
      "[CV] END .....................n_neighbors=3, weights=uniform; total time=  12.6s\n",
      "[CV] END ....................n_neighbors=3, weights=distance; total time=  13.0s\n",
      "[CV] END ....................n_neighbors=3, weights=distance; total time=  14.6s\n",
      "[CV] END ....................n_neighbors=3, weights=distance; total time=  15.6s\n",
      "[CV] END .....................n_neighbors=4, weights=uniform; total time=  18.6s\n",
      "[CV] END .....................n_neighbors=4, weights=uniform; total time=  17.2s\n",
      "[CV] END .....................n_neighbors=4, weights=uniform; total time=  16.7s\n",
      "[CV] END ....................n_neighbors=4, weights=distance; total time=  18.2s\n",
      "[CV] END ....................n_neighbors=4, weights=distance; total time=  17.6s\n",
      "[CV] END ....................n_neighbors=4, weights=distance; total time=  17.4s\n",
      "[CV] END .....................n_neighbors=5, weights=uniform; total time=  17.4s\n",
      "[CV] END .....................n_neighbors=5, weights=uniform; total time=  17.8s\n",
      "[CV] END .....................n_neighbors=5, weights=uniform; total time=  17.9s\n",
      "[CV] END ....................n_neighbors=5, weights=distance; total time=  17.6s\n",
      "[CV] END ....................n_neighbors=5, weights=distance; total time=  17.6s\n",
      "[CV] END ....................n_neighbors=5, weights=distance; total time=  18.1s\n",
      "[CV] END .....................n_neighbors=6, weights=uniform; total time=  17.9s\n",
      "[CV] END .....................n_neighbors=6, weights=uniform; total time=  17.2s\n",
      "[CV] END .....................n_neighbors=6, weights=uniform; total time=  18.0s\n",
      "[CV] END ....................n_neighbors=6, weights=distance; total time=  17.2s\n",
      "[CV] END ....................n_neighbors=6, weights=distance; total time=  17.5s\n",
      "[CV] END ....................n_neighbors=6, weights=distance; total time=  17.0s\n",
      "[CV] END .....................n_neighbors=7, weights=uniform; total time=  17.1s\n",
      "[CV] END .....................n_neighbors=7, weights=uniform; total time=  16.6s\n",
      "[CV] END .....................n_neighbors=7, weights=uniform; total time=  17.8s\n",
      "[CV] END ....................n_neighbors=7, weights=distance; total time=  17.3s\n",
      "[CV] END ....................n_neighbors=7, weights=distance; total time=  18.1s\n",
      "[CV] END ....................n_neighbors=7, weights=distance; total time=  17.7s\n",
      "[CV] END .....................n_neighbors=8, weights=uniform; total time=  17.6s\n",
      "[CV] END .....................n_neighbors=8, weights=uniform; total time=  17.3s\n",
      "[CV] END .....................n_neighbors=8, weights=uniform; total time=  17.8s\n",
      "[CV] END ....................n_neighbors=8, weights=distance; total time=  17.5s\n",
      "[CV] END ....................n_neighbors=8, weights=distance; total time=  16.3s\n",
      "[CV] END ....................n_neighbors=8, weights=distance; total time=  16.7s\n",
      "[CV] END .....................n_neighbors=9, weights=uniform; total time=  17.1s\n",
      "[CV] END .....................n_neighbors=9, weights=uniform; total time=  17.2s\n",
      "[CV] END .....................n_neighbors=9, weights=uniform; total time=  17.1s\n",
      "[CV] END ....................n_neighbors=9, weights=distance; total time=  17.0s\n",
      "[CV] END ....................n_neighbors=9, weights=distance; total time=  16.5s\n",
      "[CV] END ....................n_neighbors=9, weights=distance; total time=  16.8s\n",
      "[CV] END ....................n_neighbors=10, weights=uniform; total time=  18.9s\n",
      "[CV] END ....................n_neighbors=10, weights=uniform; total time=  17.8s\n",
      "[CV] END ....................n_neighbors=10, weights=uniform; total time=  17.9s\n",
      "[CV] END ...................n_neighbors=10, weights=distance; total time=  17.9s\n",
      "[CV] END ...................n_neighbors=10, weights=distance; total time=  18.3s\n",
      "[CV] END ...................n_neighbors=10, weights=distance; total time=  17.4s\n"
     ]
    },
    {
     "data": {
      "text/plain": [
       "{'n_neighbors': 4, 'weights': 'distance'}"
      ]
     },
     "execution_count": 57,
     "metadata": {},
     "output_type": "execute_result"
    }
   ],
   "source": [
    "# 创建分类器\n",
    "from sklearn.neighbors import KNeighborsClassifier\n",
    "knn_clf = KNeighborsClassifier()\n",
    "\n",
    "# 使用网格搜索\n",
    "from sklearn.model_selection import GridSearchCV\n",
    "param_grid = [\n",
    "    {\n",
    "        'weights': ['uniform','distance'],\n",
    "        'n_neighbors': [i for i in range(1, 11)]\n",
    "    }\n",
    "]\n",
    "grid_search = GridSearchCV(knn_clf, param_grid, cv=3, verbose=2)\n",
    "grid_search.fit(X_train, y_train)\n",
    "# 输出最佳参数\n",
    "grid_search.best_params_"
   ]
  },
  {
   "cell_type": "code",
   "execution_count": 58,
   "id": "172fac3f",
   "metadata": {},
   "outputs": [
    {
     "data": {
      "text/plain": [
       "array([0.96945023, 0.96987694, 0.96785649])"
      ]
     },
     "execution_count": 58,
     "metadata": {},
     "output_type": "execute_result"
    }
   ],
   "source": [
    "# 找到最佳的参数后，使用最佳参数创建分类器\n",
    "from sklearn.model_selection import cross_val_score\n",
    "knn_clf = KNeighborsClassifier(n_neighbors=4, weights='distance')\n",
    "knn_clf.fit(X_train, y_train)\n",
    "cross_val_score(knn_clf, X_train, y_train, cv=3, scoring='accuracy')"
   ]
  },
  {
   "cell_type": "code",
   "execution_count": 59,
   "id": "bb2279aa",
   "metadata": {},
   "outputs": [
    {
     "data": {
      "text/plain": [
       "0.9715714285714285"
      ]
     },
     "execution_count": 59,
     "metadata": {},
     "output_type": "execute_result"
    }
   ],
   "source": [
    "# 在测试集上进行测试\n",
    "knn_clf.score(X_test, y_test)"
   ]
  },
  {
   "cell_type": "markdown",
   "id": "2a6bf27a",
   "metadata": {},
   "source": [
    "#### scipy.ndimage.shift\n",
    "    - The array is **shifted using spline interpolation** of the requested order. Points outside the boundaries of the input are filled according to the given mode.\n",
    "    - https://docs.scipy.org/doc/scipy/reference/generated/scipy.ndimage.shift.html"
   ]
  },
  {
   "cell_type": "code",
   "execution_count": 60,
   "id": "80c36964",
   "metadata": {},
   "outputs": [],
   "source": [
    "import scipy\n",
    "def move_image(x_train,direction='down'):\n",
    "    if direction == 'down':\n",
    "        shift=[5,0]\n",
    "    elif direction == 'up':\n",
    "        shift=[-5,0]\n",
    "    elif direction == 'right':\n",
    "        shift=[0,5]\n",
    "    elif direction == 'left':\n",
    "        shift=[0,-5]\n",
    "    else:\n",
    "        print('wrong direction')\n",
    "    x_train_shifted = scipy.ndimage.shift(x_train,shift,mode='constant',cval=0)\n",
    "    return x_train_shifted\n",
    "        "
   ]
  },
  {
   "cell_type": "code",
   "execution_count": 61,
   "id": "7c7b9432",
   "metadata": {},
   "outputs": [
    {
     "name": "stdout",
     "output_type": "stream",
     "text": [
      "(28, 28)\n"
     ]
    },
    {
     "data": {
      "image/png": "[encoded data removed]",
      "text/plain": [
       "<Figure size 640x480 with 1 Axes>"
      ]
     },
     "metadata": {},
     "output_type": "display_data"
    }
   ],
   "source": [
    "some_digit_shifted = move_image(some_digit.reshape(28,28),direction='right')\n",
    "print(some_digit_shifted.shape)\n",
    "plt.imshow(some_digit_shifted, cmap='binary')\n",
    "plt.axis('off')\n",
    "plt.show()"
   ]
  },
  {
   "cell_type": "code",
   "execution_count": 62,
   "id": "62cbd5fd",
   "metadata": {},
   "outputs": [
    {
     "name": "stdout",
     "output_type": "stream",
     "text": [
      "增强后的训练集形状： (245000, 784)\n",
      "增强后的标签集形状： (245000,)\n"
     ]
    }
   ],
   "source": [
    "X_train_np = X_train.values\n",
    "y_train_np = y_train.values\n",
    "\n",
    "n_samples = X_train_np.shape[0]\n",
    "# 先对整个array进行转换，避免后面dataframe和numpy频繁转换\n",
    "X_train_reshaped = X_train_np.reshape((n_samples, 28, 28))\n",
    "shifted_images = [X_train_reshaped]\n",
    "\n",
    "directions = ['up', 'down','right','left']\n",
    "for direction in directions:\n",
    "    shifted = np.array([move_image(img, direction=direction) for img in X_train_reshaped])\n",
    "    shifted_images.append(shifted)\n",
    "    \n",
    "# 将所有平移后的图像堆叠在一起，形状为 (n_samples * 5, 28, 28)\n",
    "X_train_augmented = np.vstack(shifted_images)\n",
    "\n",
    "# 将图像重新展开为 (n_samples * 5, 784)\n",
    "X_train_augmented = X_train_augmented.reshape((-1, 784))\n",
    "\n",
    "# 生成对应的标签，重复每个标签 5 次\n",
    "y_train_augmented = np.tile(y_train_np, 5)\n",
    "\n",
    "print(\"增强后的训练集形状：\", X_train_augmented.shape)\n",
    "print(\"增强后的标签集形状：\", y_train_augmented.shape)\n",
    "    "
   ]
  },
  {
   "cell_type": "code",
   "execution_count": 63,
   "id": "49e581dc",
   "metadata": {},
   "outputs": [],
   "source": [
    "# import numpy as np\n",
    "# # 每一行数据表示一张图片\n",
    "# X_train_shifted = X_train\n",
    "# y_train_shifted = y_train\n",
    "\n",
    "# for i in range(len(X_train)):\n",
    "#     x_train_shifted_piece_down = move_image(X_train.iloc[i].values.reshape((28,28)),direction='down')\n",
    "#     x_train_shifted_piece_right = move_image(X_train.iloc[i].values.reshape((28,28)),direction='right')\n",
    "#     x_train_shifted_piece_left = move_image(X_train.iloc[i].values.reshape((28,28)),direction='left')\n",
    "#     x_train_shifted_piece_up = move_image(X_train.iloc[i].values.reshape((28,28)),direction='up')   \n",
    "    \n",
    "#     X_train_shifted = np.insert(X_train_shifted,1,x_train_shifted_piece_down.reshape((784,)))\n",
    "#     X_train_shifted = np.insert(X_train_shifted,1,x_train_shifted_piece_right.reshape((784,)))\n",
    "#     X_train_shifted = np.insert(X_train_shifted,1,x_train_shifted_piece_left.reshape((784,)))\n",
    "#     X_train_shifted = np.insert(X_train_shifted,1,x_train_shifted_piece_up.reshape((784,)))\n",
    "    \n",
    "#     y_train_shifted = np.append(y_train, y_train.iloc[i].values, axis = 0)\n",
    "#     y_train_shifted = np.append(y_train, y_train.iloc[i].values, axis = 0)\n",
    "#     y_train_shifted = np.append(y_train, y_train.iloc[i].values, axis = 0)\n",
    "#     y_train_shifted = np.append(y_train, y_train.iloc[i].values, axis = 0)\n",
    "    \n",
    "\n",
    "\n",
    "        "
   ]
  },
  {
   "cell_type": "markdown",
   "id": "d72af231",
   "metadata": {},
   "source": [
    "#### 增强后的数据训练后效果更好"
   ]
  },
  {
   "cell_type": "code",
   "execution_count": 64,
   "id": "a55b7e44",
   "metadata": {},
   "outputs": [
    {
     "data": {
      "text/plain": [
       "array([0.48216538, 0.49164289, 0.46485686])"
      ]
     },
     "execution_count": 64,
     "metadata": {},
     "output_type": "execute_result"
    }
   ],
   "source": [
    "# 采用增强之后的数据\n",
    "from sklearn.neighbors import KNeighborsClassifier\n",
    "from sklearn.model_selection import cross_val_score\n",
    "knn_clf = KNeighborsClassifier()\n",
    "\n",
    "knn_clf.fit(X_train_augmented, y_train_augmented)\n",
    "cross_val_score(knn_clf,X_train_augmented, y_train_augmented, cv=3, scoring='accuracy')"
   ]
  },
  {
   "cell_type": "code",
   "execution_count": 65,
   "id": "851fa683",
   "metadata": {},
   "outputs": [
    {
     "name": "stderr",
     "output_type": "stream",
     "text": [
      "c:\\Anaconda3\\envs\\opencv\\lib\\site-packages\\sklearn\\base.py:458: UserWarning: X has feature names, but KNeighborsClassifier was fitted without feature names\n",
      "  warnings.warn(\n"
     ]
    },
    {
     "data": {
      "text/plain": [
       "0.9672857142857143"
      ]
     },
     "execution_count": 65,
     "metadata": {},
     "output_type": "execute_result"
    }
   ],
   "source": [
    "knn_clf.score(X_test, y_test)"
   ]
  }
 ],
 "metadata": {
  "kernelspec": {
   "display_name": "Python 3 (ipykernel)",
   "language": "python",
   "name": "python3"
  },
  "language_info": {
   "codemirror_mode": {
    "name": "ipython",
    "version": 3
   },
   "file_extension": ".py",
   "mimetype": "text/x-python",
   "name": "python",
   "nbconvert_exporter": "python",
   "pygments_lexer": "ipython3",
   "version": "3.8.19"
  }
 },
 "nbformat": 4,
 "nbformat_minor": 5
}
