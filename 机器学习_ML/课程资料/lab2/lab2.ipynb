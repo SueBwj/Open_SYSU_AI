{
 "cells": [
  {
   "cell_type": "markdown",
   "metadata": {},
   "source": [
    "### K-Means算法的手动实现"
   ]
  },
  {
   "cell_type": "code",
   "execution_count": 1,
   "metadata": {},
   "outputs": [],
   "source": [
    "import numpy as np\n",
    "import matplotlib.pyplot as plt\n",
    "np.random.seed(43)  # 设置随机种子\n",
    "def L2(vecXi, vecXj):\n",
    "    '''\n",
    "    计算欧氏距离\n",
    "    para vecXi：点坐标，向量\n",
    "    para vecXj：点坐标，向量\n",
    "    retrurn: 两点之间的欧氏距离\n",
    "    '''\n",
    "    return np.sqrt(np.sum(np.square(vecXi - vecXj)))\n",
    "\n"
   ]
  },
  {
   "cell_type": "code",
   "execution_count": 2,
   "metadata": {},
   "outputs": [],
   "source": [
    "def update_center_point(S, sampleTag, k):\n",
    "    \"\"\"\n",
    "    返回更新之后的点\n",
    "    \"\"\"\n",
    "    center_points = []\n",
    "    for i in range(k):\n",
    "        cluster_point = []\n",
    "        # 将所有属于同一簇的点放入数组\n",
    "        for j in range(len(sampleTag)):\n",
    "            if sampleTag[j] == i:\n",
    "                cluster_point.append(S[j])\n",
    "        \n",
    "        cluster_point = np.array(cluster_point)\n",
    "        center_point = np.sum(cluster_point,axis=0) * 1 / (len(cluster_point))\n",
    "        center_points.append(center_point)\n",
    "    return center_points"
   ]
  },
  {
   "cell_type": "code",
   "execution_count": 3,
   "metadata": {},
   "outputs": [],
   "source": [
    "def isChange(center_points, pred_center_points, tol=1e-4):\n",
    "    \"\"\"\n",
    "    判断中心点是否发生改变\n",
    "    \"\"\"\n",
    "    \n",
    "    for i in range(len(center_points)):\n",
    "        if pred_center_points[i][0] != center_points[i][0]:\n",
    "            return True\n",
    "        elif pred_center_points[i][1] != center_points[i][1]:\n",
    "            return True\n",
    "    return False\n",
    "    # return np.any(np.linalg.norm(np.array(center_points) - np.array(pred_center_points), axis=1) > tol)"
   ]
  },
  {
   "cell_type": "code",
   "execution_count": 4,
   "metadata": {},
   "outputs": [],
   "source": [
    "def kMeans(S, k, distMeas=L2):\n",
    "    '''\n",
    "    K均值聚类\n",
    "    para S：样本集，多维数组\n",
    "    para k：簇个数\n",
    "    para distMeas：距离度量函数，默认为欧氏距离计算函数\n",
    "    return sampleTag：一维数组，存储样本对应的簇标签\n",
    "    return clusterCents：一维数组，各簇中心\n",
    "    retrun SSE:误差平方和\n",
    "    '''\n",
    "    is_change = True\n",
    "    #  初始化：随机选取k各数据点作为中心\n",
    "    random_index = np.random.choice(len(S), k, replace=False)\n",
    "    center_points = [S[i] for i in random_index]\n",
    "    \n",
    "    while(is_change):\n",
    "        pred_center_points = center_points\n",
    "        #  对于每个数据点，计算到每个簇中心的距离\n",
    "        SSE_all_point = np.array([])\n",
    "        sampleTag = np.array([])\n",
    "        for point in S:\n",
    "            dis_i = np.array([])\n",
    "            for i in range(k):\n",
    "                center_point = center_points[i]\n",
    "                distance = distMeas(point, center_point)\n",
    "                dis_i = np.append(dis_i, distance)\n",
    "\n",
    "            sampleTag = np.append(sampleTag,np.argmin(dis_i))\n",
    "            SSE_all_point = np.append(SSE_all_point,np.min(dis_i)**2)\n",
    "        \n",
    "        # 计算每个簇的中心\n",
    "        center_points = update_center_point(S,sampleTag, k)\n",
    "        SSE = np.sum(SSE_all_point)\n",
    "        \n",
    "        # 判断中心点有无发生改变\n",
    "        is_change = isChange(center_points, pred_center_points)\n",
    "        print(\"is_change: \",is_change)\n",
    "    return center_points, sampleTag, SSE\n",
    "        \n",
    "        \n",
    "        \n",
    "    "
   ]
  },
  {
   "cell_type": "code",
   "execution_count": 5,
   "metadata": {},
   "outputs": [
    {
     "name": "stdout",
     "output_type": "stream",
     "text": [
      "is_change:  True\n",
      "is_change:  True\n",
      "is_change:  True\n",
      "is_change:  False\n",
      "clusterCents:  [array([1.81581065, 1.3855428 ]), array([7.97954595, 9.00531267]), array([ 4.97703516, 15.87480339])]\n",
      "sampleTag:  [2. 1. 1. 2. 1. 2. 1. 2. 0. 0. 0. 0. 1. 2. 2. 2. 2. 0. 0. 2. 2. 0. 1. 2.\n",
      " 1. 1. 2. 0. 0. 2.]\n",
      "SSE:  487.84027376189164\n"
     ]
    }
   ],
   "source": [
    "samples = np.array([\n",
    " [ 8.76474369, 14.97536963],\n",
    " [ 4.54577845, 7.39433243],\n",
    " [ 5.66184177, 10.45327224],\n",
    " [ 6.02005553, 18.60759073],\n",
    " [12.56729723, 5.50656992],\n",
    " [ 4.18694228, 14.02615036],\n",
    " [ 5.72670608, 8.37561397],\n",
    " [ 4.09989928, 14.44273323],\n",
    " [ 2.25717893, 1.97789559],\n",
    " [ 4.66913545, 0.77178038] ,\n",
    " [ 8.1219476, 0.79762128] ,\n",
    " [ 0.07972278, -1.9386662 ],\n",
    " [ 8.37004706, 10.77781799] ,\n",
    " [ 6.6809732, 15.53118858] ,\n",
    " [ 5.99194694, 16.57732864] ,\n",
    " [ 5.64199016, 15.54671014],\n",
    " [-2.92514764, 11.0884457 ],\n",
    " [ 4.99694961, 1.98673206] ,\n",
    " [ 3.8665841, -1.75282591] ,\n",
    " [ 2.62642744, 22.08897582] ,\n",
    " [ 5.65622583, 14.77736975] ,\n",
    " [-0.33882279, 5.56931142] ,\n",
    " [10.93574482, 11.24487206] ,\n",
    " [ 4.65023576, 12.78869503] ,\n",
    " [ 8.49848513, 9.78769711] ,\n",
    " [ 7.53046709, 8.50232567] ,\n",
    " [ 6.17118371, 21.74394049] ,\n",
    " [-0.93339496, 1.59414249] ,\n",
    " [-6.37700491, 3.46389409] ,\n",
    " [ 7.13598091, 14.17794597]\n",
    " ])\n",
    "k = 3\n",
    "clusterCents, sampleTag, SSE = kMeans(samples, k)\n",
    "print('clusterCents: ',clusterCents)\n",
    "print('sampleTag: ', sampleTag)\n",
    "print(\"SSE: \", SSE)"
   ]
  },
  {
   "cell_type": "code",
   "execution_count": 6,
   "metadata": {},
   "outputs": [
    {
     "data": {
      "text/html": [
       "<style>#sk-container-id-1 {color: black;}#sk-container-id-1 pre{padding: 0;}#sk-container-id-1 div.sk-toggleable {background-color: white;}#sk-container-id-1 label.sk-toggleable__label {cursor: pointer;display: block;width: 100%;margin-bottom: 0;padding: 0.3em;box-sizing: border-box;text-align: center;}#sk-container-id-1 label.sk-toggleable__label-arrow:before {content: \"▸\";float: left;margin-right: 0.25em;color: #696969;}#sk-container-id-1 label.sk-toggleable__label-arrow:hover:before {color: black;}#sk-container-id-1 div.sk-estimator:hover label.sk-toggleable__label-arrow:before {color: black;}#sk-container-id-1 div.sk-toggleable__content {max-height: 0;max-width: 0;overflow: hidden;text-align: left;background-color: #f0f8ff;}#sk-container-id-1 div.sk-toggleable__content pre {margin: 0.2em;color: black;border-radius: 0.25em;background-color: #f0f8ff;}#sk-container-id-1 input.sk-toggleable__control:checked~div.sk-toggleable__content {max-height: 200px;max-width: 100%;overflow: auto;}#sk-container-id-1 input.sk-toggleable__control:checked~label.sk-toggleable__label-arrow:before {content: \"▾\";}#sk-container-id-1 div.sk-estimator input.sk-toggleable__control:checked~label.sk-toggleable__label {background-color: #d4ebff;}#sk-container-id-1 div.sk-label input.sk-toggleable__control:checked~label.sk-toggleable__label {background-color: #d4ebff;}#sk-container-id-1 input.sk-hidden--visually {border: 0;clip: rect(1px 1px 1px 1px);clip: rect(1px, 1px, 1px, 1px);height: 1px;margin: -1px;overflow: hidden;padding: 0;position: absolute;width: 1px;}#sk-container-id-1 div.sk-estimator {font-family: monospace;background-color: #f0f8ff;border: 1px dotted black;border-radius: 0.25em;box-sizing: border-box;margin-bottom: 0.5em;}#sk-container-id-1 div.sk-estimator:hover {background-color: #d4ebff;}#sk-container-id-1 div.sk-parallel-item::after {content: \"\";width: 100%;border-bottom: 1px solid gray;flex-grow: 1;}#sk-container-id-1 div.sk-label:hover label.sk-toggleable__label {background-color: #d4ebff;}#sk-container-id-1 div.sk-serial::before {content: \"\";position: absolute;border-left: 1px solid gray;box-sizing: border-box;top: 0;bottom: 0;left: 50%;z-index: 0;}#sk-container-id-1 div.sk-serial {display: flex;flex-direction: column;align-items: center;background-color: white;padding-right: 0.2em;padding-left: 0.2em;position: relative;}#sk-container-id-1 div.sk-item {position: relative;z-index: 1;}#sk-container-id-1 div.sk-parallel {display: flex;align-items: stretch;justify-content: center;background-color: white;position: relative;}#sk-container-id-1 div.sk-item::before, #sk-container-id-1 div.sk-parallel-item::before {content: \"\";position: absolute;border-left: 1px solid gray;box-sizing: border-box;top: 0;bottom: 0;left: 50%;z-index: -1;}#sk-container-id-1 div.sk-parallel-item {display: flex;flex-direction: column;z-index: 1;position: relative;background-color: white;}#sk-container-id-1 div.sk-parallel-item:first-child::after {align-self: flex-end;width: 50%;}#sk-container-id-1 div.sk-parallel-item:last-child::after {align-self: flex-start;width: 50%;}#sk-container-id-1 div.sk-parallel-item:only-child::after {width: 0;}#sk-container-id-1 div.sk-dashed-wrapped {border: 1px dashed gray;margin: 0 0.4em 0.5em 0.4em;box-sizing: border-box;padding-bottom: 0.4em;background-color: white;}#sk-container-id-1 div.sk-label label {font-family: monospace;font-weight: bold;display: inline-block;line-height: 1.2em;}#sk-container-id-1 div.sk-label-container {text-align: center;}#sk-container-id-1 div.sk-container {/* jupyter's `normalize.less` sets `[hidden] { display: none; }` but bootstrap.min.css set `[hidden] { display: none !important; }` so we also need the `!important` here to be able to override the default hidden behavior on the sphinx rendered scikit-learn.org. See: https://github.com/scikit-learn/scikit-learn/issues/21755 */display: inline-block !important;position: relative;}#sk-container-id-1 div.sk-text-repr-fallback {display: none;}</style><div id=\"sk-container-id-1\" class=\"sk-top-container\"><div class=\"sk-text-repr-fallback\"><pre>KMeans(init=&#x27;random&#x27;, n_clusters=3, n_init=10, random_state=43)</pre><b>In a Jupyter environment, please rerun this cell to show the HTML representation or trust the notebook. <br />On GitHub, the HTML representation is unable to render, please try loading this page with nbviewer.org.</b></div><div class=\"sk-container\" hidden><div class=\"sk-item\"><div class=\"sk-estimator sk-toggleable\"><input class=\"sk-toggleable__control sk-hidden--visually\" id=\"sk-estimator-id-1\" type=\"checkbox\" checked><label for=\"sk-estimator-id-1\" class=\"sk-toggleable__label sk-toggleable__label-arrow\">KMeans</label><div class=\"sk-toggleable__content\"><pre>KMeans(init=&#x27;random&#x27;, n_clusters=3, n_init=10, random_state=43)</pre></div></div></div></div></div>"
      ],
      "text/plain": [
       "KMeans(init='random', n_clusters=3, n_init=10, random_state=43)"
      ]
     },
     "execution_count": 6,
     "metadata": {},
     "output_type": "execute_result"
    }
   ],
   "source": [
    "from sklearn.cluster import KMeans\n",
    "model = KMeans(n_clusters=3, init='random', n_init=10, random_state=43)\n",
    "model.fit(samples)"
   ]
  },
  {
   "cell_type": "code",
   "execution_count": 7,
   "metadata": {},
   "outputs": [
    {
     "data": {
      "text/plain": [
       "array([[ 4.97703516, 15.87480339],\n",
       "       [ 1.81581065,  1.3855428 ],\n",
       "       [ 7.97954595,  9.00531267]])"
      ]
     },
     "execution_count": 7,
     "metadata": {},
     "output_type": "execute_result"
    }
   ],
   "source": [
    "model.cluster_centers_"
   ]
  },
  {
   "cell_type": "code",
   "execution_count": 8,
   "metadata": {},
   "outputs": [
    {
     "data": {
      "text/plain": [
       "array([0, 2, 2, 0, 2, 0, 2, 0, 1, 1, 1, 1, 2, 0, 0, 0, 0, 1, 1, 0, 0, 1,\n",
       "       2, 0, 2, 2, 0, 1, 1, 0])"
      ]
     },
     "execution_count": 8,
     "metadata": {},
     "output_type": "execute_result"
    }
   ],
   "source": [
    "model.labels_"
   ]
  },
  {
   "cell_type": "code",
   "execution_count": 9,
   "metadata": {},
   "outputs": [],
   "source": [
    "from sklearn.cluster import k_means\n",
    "centroid, label, inertia = k_means(samples, n_clusters=3, init='random', n_init=10)"
   ]
  },
  {
   "cell_type": "code",
   "execution_count": 10,
   "metadata": {},
   "outputs": [
    {
     "data": {
      "image/png": "[encoded data removed]",
      "text/plain": [
       "<Figure size 640x480 with 1 Axes>"
      ]
     },
     "metadata": {},
     "output_type": "display_data"
    }
   ],
   "source": [
    "import matplotlib.pyplot as plt\n",
    "plt.scatter(samples[:, 0], samples[:, 1], c=label)\n",
    "plt.show()\n"
   ]
  }
 ],
 "metadata": {
  "kernelspec": {
   "display_name": "opencv",
   "language": "python",
   "name": "python3"
  },
  "language_info": {
   "codemirror_mode": {
    "name": "ipython",
    "version": 3
   },
   "file_extension": ".py",
   "mimetype": "text/x-python",
   "name": "python",
   "nbconvert_exporter": "python",
   "pygments_lexer": "ipython3",
   "version": "3.8.0"
  }
 },
 "nbformat": 4,
 "nbformat_minor": 2
}
